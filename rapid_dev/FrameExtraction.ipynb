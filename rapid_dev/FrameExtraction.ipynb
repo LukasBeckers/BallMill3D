{
 "cells": [
  {
   "cell_type": "code",
   "execution_count": 1,
   "id": "58578574-40f8-43dd-9f14-ce1dcc1ab499",
   "metadata": {},
   "outputs": [],
   "source": [
    "import os\n",
    "import sys\n",
    "from PIL import Image\n",
    "sys.path.append(\"..\")\n",
    "# Enable interactive plotting in Jupyter Notebook\n",
    "\n",
    "from utils.detection_utils import *"
   ]
  },
  {
   "cell_type": "code",
   "execution_count": 2,
   "id": "920c248f-cf3a-4d01-8fdd-459bfd0e25e7",
   "metadata": {},
   "outputs": [],
   "source": [
    "run_name = \"RUN5\"\n",
    "\n",
    "spiegel_calib = \"spiegel.mp4\"\n",
    "front_calib = \"front.mp4\"\n",
    "stereo_calib = \"stereo.mp4\"\n"
   ]
  },
  {
   "cell_type": "code",
   "execution_count": 5,
   "id": "86ab4464-52ee-41da-8bcd-f7033c311a82",
   "metadata": {},
   "outputs": [],
   "source": [
    "calibration_dir = f\"../videos/{run_name}/calibration\"\n",
    "detection_dir = f\"../videos/{run_name}/detection\"\n",
    "detection_files = os.listdir(detection_dir)\n",
    "sC = stereoCamera()\n",
    "sC.load_from_yaml(f\"{run_name}cam_positions.yaml\")\n",
    "vL = videoLoader()\n",
    "vL.load_video(f\"../videos/{run_name}/detection/{detection_files[0]}\")"
   ]
  },
  {
   "cell_type": "code",
   "execution_count": 6,
   "id": "a060ccc5-a106-4ed4-a93d-601bca224732",
   "metadata": {},
   "outputs": [],
   "source": [
    "def extract_frames(video_loader, n_frames=None):\n",
    "    if n_frames is None:\n",
    "        frames = [frame for frame in video_loader]\n",
    "    else:\n",
    "        step = len(video_loader) // (n_frames -1)\n",
    "        frames = [frame for frame in vL[::step]]\n",
    "    print(\"len frames\", len(frames))\n",
    "    return frames\n",
    "                   "
   ]
  },
  {
   "cell_type": "code",
   "execution_count": 7,
   "id": "9376ce34-0ba6-4212-83a4-4a29e5618117",
   "metadata": {},
   "outputs": [
    {
     "name": "stdout",
     "output_type": "stream",
     "text": [
      "Ball15mm5 Ball15mm5\n",
      "len frames 10\n",
      "Ball10mm2 Ball10mm2\n",
      "len frames 10\n",
      "Ball15mm2 Ball15mm2\n",
      "len frames 10\n",
      "Ball15mm6 Ball15mm6\n",
      "len frames 10\n",
      "Ball5mm7 Ball5mm7\n",
      "len frames 10\n",
      "Ball15mm4 Ball15mm4\n",
      "len frames 10\n",
      "Ball10mm6 Ball10mm6\n",
      "len frames 10\n",
      "Ball10mm4 Ball10mm4\n",
      "len frames 10\n",
      "Ball5mm8 Ball5mm8\n",
      "len frames 10\n",
      "Ball10mm5 Ball10mm5\n",
      "len frames 10\n",
      "Ball5mm5 Ball5mm5\n",
      "len frames 10\n",
      "Ball5mm9 Ball5mm9\n",
      "len frames 10\n",
      "Ball5mm4 Ball5mm4\n",
      "len frames 10\n",
      "Ball5mm6 Ball5mm6\n",
      "len frames 10\n",
      "Ball15mm7 Ball15mm7\n",
      "len frames 10\n",
      "Ball10mm8 Ball10mm8\n",
      "len frames 10\n",
      "Ball15mm1 Ball15mm1\n",
      "len frames 10\n",
      "Ball5mm1 Ball5mm1\n",
      "len frames 10\n",
      "Ball10mm1 Ball10mm1\n",
      "len frames 10\n",
      "Ball10mm3 Ball10mm3\n",
      "len frames 10\n",
      "Ball10mm7 Ball10mm7\n",
      "len frames 10\n",
      "Ball5mm3 Ball5mm3\n",
      "len frames 10\n",
      "Ball5mm2 Ball5mm2\n",
      "len frames 10\n",
      "Ball15mm3 Ball15mm3\n",
      "len frames 10\n"
     ]
    }
   ],
   "source": [
    "for file in detection_files:\n",
    "    #if file[:4] != \"10mm\": # filters for only 10mm files\n",
    "    #   continue\n",
    "    vL.load_video(f\"../videos/{run_name}/detection/{file}\")\n",
    "    file_stem = file[:-4]\n",
    "    print(file_stem, file_stem)\n",
    "    frames = extract_frames(vL, 10)\n",
    "    for i, frame in enumerate(frames):\n",
    "        frame = cv2.cvtColor(frame, cv2.COLOR_BGR2RGB)\n",
    "        frame1, frame2 = sC(frame)\n",
    "        frame1, frame2 = Image.fromarray(frame1), Image.fromarray(frame2)\n",
    "        os.makedirs(\"../train_samples/unlabeled/\", exist_ok=True)\n",
    "        frame2.save(f\"../train_samples/unlabeled/{file_stem}front{i}.jpg\")\n",
    "        frame1.save(f\"../train_samples/unlabeled/{file_stem}mirror{i}.jpg\")"
   ]
  },
  {
   "cell_type": "code",
   "execution_count": null,
   "id": "3fc17ef9-c060-43bd-b8b3-153cf653477a",
   "metadata": {},
   "outputs": [],
   "source": []
  }
 ],
 "metadata": {
  "kernelspec": {
   "display_name": "BallMill3D",
   "language": "python",
   "name": "ballmill3d"
  },
  "language_info": {
   "codemirror_mode": {
    "name": "ipython",
    "version": 3
   },
   "file_extension": ".py",
   "mimetype": "text/x-python",
   "name": "python",
   "nbconvert_exporter": "python",
   "pygments_lexer": "ipython3",
   "version": "3.12.3"
  }
 },
 "nbformat": 4,
 "nbformat_minor": 5
}
