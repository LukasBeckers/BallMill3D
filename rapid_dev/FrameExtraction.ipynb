{
 "cells": [
  {
   "cell_type": "code",
   "execution_count": 12,
   "id": "58578574-40f8-43dd-9f14-ce1dcc1ab499",
   "metadata": {},
   "outputs": [],
   "source": [
    "import os\n",
    "import sys\n",
    "from PIL import Image\n",
    "sys.path.append(\"..\")\n",
    "# Enable interactive plotting in Jupyter Notebook\n",
    "\n",
    "from utils.detection_utils import *"
   ]
  },
  {
   "cell_type": "code",
   "execution_count": 3,
   "id": "920c248f-cf3a-4d01-8fdd-459bfd0e25e7",
   "metadata": {},
   "outputs": [],
   "source": [
    "run_name = \"RUN3\"\n",
    "\n",
    "spiegel_calib = \"spiegel.mp4\"\n",
    "front_calib = \"front.mp4\"\n",
    "stereo_calib = \"stereo.mp4\"\n"
   ]
  },
  {
   "cell_type": "code",
   "execution_count": 8,
   "id": "86ab4464-52ee-41da-8bcd-f7033c311a82",
   "metadata": {},
   "outputs": [],
   "source": [
    "calibration_dir = f\"../videos/{run_name}/calibration\"\n",
    "detection_dir = f\"../videos/{run_name}/detection\"\n",
    "detection_files = os.listdir(detection_dir)\n",
    "sC = stereoCamera()\n",
    "sC.load_from_yaml(f\"{run_name}.yaml\")\n",
    "vL = videoLoader()\n",
    "vL.load_video(f\"../videos/{run_name}/detection/{detection_files[0]}\")"
   ]
  },
  {
   "cell_type": "code",
   "execution_count": 17,
   "id": "a060ccc5-a106-4ed4-a93d-601bca224732",
   "metadata": {},
   "outputs": [],
   "source": [
    "def extract_frames(video_loader, n_frames=None):\n",
    "    if n_frames is None:\n",
    "        frames = [frame for frame in video_loader]\n",
    "    else:\n",
    "        step = len(video_loader) // (n_frames -1)\n",
    "        frames = [frame for frame in vL[::step]]\n",
    "    print(\"len frames\", len(frames))\n",
    "    return frames\n",
    "                   "
   ]
  },
  {
   "cell_type": "code",
   "execution_count": 20,
   "id": "9376ce34-0ba6-4212-83a4-4a29e5618117",
   "metadata": {},
   "outputs": [
    {
     "name": "stdout",
     "output_type": "stream",
     "text": [
      "10mm6 10mm6\n",
      "len frames 10\n",
      "10mm2 10mm2\n",
      "len frames 10\n",
      "10mm14 10mm14\n",
      "len frames 10\n",
      "10mm0 10mm0\n",
      "len frames 10\n",
      "10mm7 10mm7\n",
      "len frames 10\n",
      "10mm12 10mm12\n",
      "len frames 10\n",
      "10mm10 10mm10\n",
      "len frames 10\n",
      "10mm11 10mm11\n",
      "len frames 10\n",
      "10mm1 10mm1\n",
      "len frames 10\n",
      "10mm5 10mm5\n",
      "len frames 10\n",
      "10mm3 10mm3\n",
      "len frames 10\n",
      "10mm8 10mm8\n",
      "len frames 10\n",
      "10mm13 10mm13\n",
      "len frames 10\n",
      "10mm4 10mm4\n",
      "len frames 10\n",
      "10mm9 10mm9\n",
      "len frames 10\n"
     ]
    }
   ],
   "source": [
    "for file in detection_files:\n",
    "    if file[:4] != \"10mm\": # filters for only 10mm files\n",
    "        continue\n",
    "    vL.load_video(f\"../videos/{run_name}/detection/{file}\")\n",
    "    file_stem = file[:-4]\n",
    "    print(file_stem, file_stem)\n",
    "    frames = extract_frames(vL, 10)\n",
    "    for i, frame in enumerate(frames):\n",
    "        frame = cv2.cvtColor(frame, cv2.COLOR_BGR2RGB)\n",
    "        frame1, frame2 = sC(frame)\n",
    "        frame1, frame2 = Image.fromarray(frame1), Image.fromarray(frame2)\n",
    "        frame2.save(f\"../train_samples/unlabeled/{file_stem}front{i}.jpg\")\n",
    "        frame1.save(f\"../train_samples/unlabeled/{file_stem}mirror{i}.jpg\")"
   ]
  },
  {
   "cell_type": "code",
   "execution_count": null,
   "id": "3fc17ef9-c060-43bd-b8b3-153cf653477a",
   "metadata": {},
   "outputs": [],
   "source": []
  }
 ],
 "metadata": {
  "kernelspec": {
   "display_name": "BallMill3D",
   "language": "python",
   "name": "venv"
  },
  "language_info": {
   "codemirror_mode": {
    "name": "ipython",
    "version": 3
   },
   "file_extension": ".py",
   "mimetype": "text/x-python",
   "name": "python",
   "nbconvert_exporter": "python",
   "pygments_lexer": "ipython3",
   "version": "3.10.12"
  }
 },
 "nbformat": 4,
 "nbformat_minor": 5
}
