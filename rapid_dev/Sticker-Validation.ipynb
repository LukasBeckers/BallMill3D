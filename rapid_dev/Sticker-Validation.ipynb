{
 "cells": [
  {
   "cell_type": "code",
   "execution_count": null,
   "id": "feb0e242-20ef-4903-ba18-28e59215bfda",
   "metadata": {},
   "outputs": [],
   "source": [
    "import sys\n",
    "import os\n",
    "\n",
    "sys.path.append(\"..\")\n",
    "\n",
    "from utils.validation_utils import stickerValidator"
   ]
  },
  {
   "cell_type": "code",
   "execution_count": null,
   "id": "8d239f33-8709-4c53-b67c-a443d2e25884",
   "metadata": {},
   "outputs": [],
   "source": [
    "run_name = \"RUN4\"\n",
    "\n",
    "validation_video0 = \"10mm10.mp4\"\n",
    "validation_video1 = \"10mm2.mp4\"\n",
    "\n",
    "stereo_calib = \"RUN4.yaml\"\n",
    "model_name = \"RUN4,5_0\"\n",
    "\n",
    "n_stickers = 6\n",
    "max_dist_sticker = 10\n",
    "max_dist_ball = 40\n",
    "warmup_steps_ball = 20\n",
    "\n",
    "detection_dir = f\"../videos/{run_name}/detection\""
   ]
  },
  {
   "cell_type": "code",
   "execution_count": null,
   "id": "e07fbec1-6124-4995-8999-3b1489b17d5b",
   "metadata": {},
   "outputs": [],
   "source": [
    "validator = stickerValidator(stereo_config_name=stereo_calib, \n",
    "                             model_name=model_name,\n",
    "                             n_stickers=n_stickers, \n",
    "                             max_dist_sticker=max_dist_sticker, \n",
    "                             max_dist_ball=max_dist_ball,\n",
    "                             warmup_steps_ball=warmup_steps_ball)"
   ]
  },
  {
   "cell_type": "code",
   "execution_count": null,
   "id": "28f1f979-d171-4354-8e4f-66eb31d82a97",
   "metadata": {},
   "outputs": [],
   "source": [
    "validator.validate_on(os.path.join(detection_dir, validation_video1))"
   ]
  },
  {
   "cell_type": "code",
   "execution_count": null,
   "id": "befbecea-af9b-4286-afa0-19a09100122e",
   "metadata": {},
   "outputs": [],
   "source": []
  }
 ],
 "metadata": {
  "kernelspec": {
   "display_name": "Python 3 (ipykernel)",
   "language": "python",
   "name": "python3"
  },
  "language_info": {
   "codemirror_mode": {
    "name": "ipython",
    "version": 3
   },
   "file_extension": ".py",
   "mimetype": "text/x-python",
   "name": "python",
   "nbconvert_exporter": "python",
   "pygments_lexer": "ipython3",
   "version": "3.12.3"
  }
 },
 "nbformat": 4,
 "nbformat_minor": 5
}
