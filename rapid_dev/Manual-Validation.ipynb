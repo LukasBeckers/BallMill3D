{
 "cells": [
  {
   "cell_type": "code",
   "execution_count": 1,
   "id": "feb0e242-20ef-4903-ba18-28e59215bfda",
   "metadata": {},
   "outputs": [],
   "source": [
    "import os\n",
    "import sys\n",
    "sys.path.append(\"..\")\n",
    "\n",
    "from utils.validation_utils import manualValidator"
   ]
  },
  {
   "cell_type": "code",
   "execution_count": 2,
   "id": "8d239f33-8709-4c53-b67c-a443d2e25884",
   "metadata": {},
   "outputs": [],
   "source": [
    "run_name = \"RUN4\"\n",
    "\n",
    "validation_video0 = \"10mm10.mp4\"\n",
    "validation_video1 = \"10mm2.mp4\"\n",
    "\n",
    "stereo_calib = \"RUN4.yaml\"\n",
    "\n",
    "detection_dir = f\"../videos/{run_name}/detection\""
   ]
  },
  {
   "cell_type": "code",
   "execution_count": 3,
   "id": "e07fbec1-6124-4995-8999-3b1489b17d5b",
   "metadata": {},
   "outputs": [],
   "source": [
    "validator = manualValidator(stereo_config_name=stereo_calib)"
   ]
  },
  {
   "cell_type": "code",
   "execution_count": 4,
   "id": "28f1f979-d171-4354-8e4f-66eb31d82a97",
   "metadata": {},
   "outputs": [
    {
     "name": "stderr",
     "output_type": "stream",
     "text": [
      "Warning: Ignoring XDG_SESSION_TYPE=wayland on Gnome. Use QT_QPA_PLATFORM=wayland to run on Wayland anyway.\n"
     ]
    },
    {
     "name": "stdout",
     "output_type": "stream",
     "text": [
      "Point 0 on Frame 1: (154, 100)\n",
      "Point 1 on Frame 1: (137, 99)\n",
      "Point 0 on Frame 0: (202, 79)\n",
      "Point 1 on Frame 0: (217, 79)\n",
      "Triangulated 3D point 0: [  -0.047961    -0.04917     0.49006]\n",
      "Triangulated 3D point 1: [  -0.039818   -0.048919     0.49067]\n",
      "Distance between points: 0.82 cm\n"
     ]
    }
   ],
   "source": [
    "validator.validate_on(os.path.join(detection_dir, validation_video1), frame_idx=110)"
   ]
  },
  {
   "cell_type": "code",
   "execution_count": null,
   "id": "befbecea-af9b-4286-afa0-19a09100122e",
   "metadata": {},
   "outputs": [],
   "source": []
  }
 ],
 "metadata": {
  "kernelspec": {
   "display_name": "Python 3 (ipykernel)",
   "language": "python",
   "name": "python3"
  },
  "language_info": {
   "codemirror_mode": {
    "name": "ipython",
    "version": 3
   },
   "file_extension": ".py",
   "mimetype": "text/x-python",
   "name": "python",
   "nbconvert_exporter": "python",
   "pygments_lexer": "ipython3",
   "version": "3.12.3"
  }
 },
 "nbformat": 4,
 "nbformat_minor": 5
}
