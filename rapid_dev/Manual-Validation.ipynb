{
 "cells": [
  {
   "cell_type": "code",
   "execution_count": 1,
   "id": "feb0e242-20ef-4903-ba18-28e59215bfda",
   "metadata": {},
   "outputs": [],
   "source": [
    "import os\n",
    "import sys\n",
    "sys.path.append(\"..\")\n",
    "\n",
    "from utils.validation_utils import manualValidator"
   ]
  },
  {
   "cell_type": "code",
   "execution_count": 2,
   "id": "8d239f33-8709-4c53-b67c-a443d2e25884",
   "metadata": {},
   "outputs": [],
   "source": [
    "run_name = \"RUN4\"\n",
    "\n",
    "validation_video0 = \"10mm10.mp4\"\n",
    "validation_video1 = \"10mm2.mp4\"\n",
    "validation_video2 = \"stereo3.mp4\"\n",
    "validation_video3 = \"stereo4.mp4\"\n",
    "\n",
    "stereo_calib = \"RUN4.yaml\"\n",
    "\n",
    "detection_dir = f\"../videos/{run_name}/detection\"\n",
    "calibration_dir = f\"../videos/{run_name}/calibration\""
   ]
  },
  {
   "cell_type": "code",
   "execution_count": 3,
   "id": "e07fbec1-6124-4995-8999-3b1489b17d5b",
   "metadata": {},
   "outputs": [],
   "source": [
    "validator = manualValidator(stereo_config_name=stereo_calib)"
   ]
  },
  {
   "cell_type": "code",
   "execution_count": 9,
   "id": "28f1f979-d171-4354-8e4f-66eb31d82a97",
   "metadata": {},
   "outputs": [
    {
     "name": "stdout",
     "output_type": "stream",
     "text": [
      "Point 0 on Frame 1: (116, 76)\n",
      "Point 1 on Frame 1: (210, 64)\n",
      "Point 0 on Frame 0: (228, 58)\n",
      "Point 1 on Frame 0: (165, 110)\n",
      "Triangulated 3D point 0: [  -0.033522   -0.059365     0.48747]\n",
      "Triangulated 3D point 1: [  -0.068223   -0.030853     0.46651]\n",
      "Distance between points: 4.96 cm\n"
     ]
    }
   ],
   "source": [
    "validation_video1 = \"10mm0.mp4\"\n",
    "\n",
    "validator.validate_on(os.path.join(detection_dir, validation_video1), frame_idx=40)"
   ]
  },
  {
   "cell_type": "code",
   "execution_count": 6,
   "id": "a13608e7-752d-43c0-8dd7-e81533370e6e",
   "metadata": {},
   "outputs": [],
   "source": [
    "validation_videox = \"stereo1.mp4\"\n",
    "\n",
    "validator.validate_on(os.path.join(calibration_dir, validation_videox), frame_idx=110)"
   ]
  },
  {
   "cell_type": "code",
   "execution_count": null,
   "id": "1d64a0ee-b756-48e9-b78c-090c9bfa1b9b",
   "metadata": {},
   "outputs": [],
   "source": []
  }
 ],
 "metadata": {
  "kernelspec": {
   "display_name": "Python 3 (ipykernel)",
   "language": "python",
   "name": "python3"
  },
  "language_info": {
   "codemirror_mode": {
    "name": "ipython",
    "version": 3
   },
   "file_extension": ".py",
   "mimetype": "text/x-python",
   "name": "python",
   "nbconvert_exporter": "python",
   "pygments_lexer": "ipython3",
   "version": "3.12.3"
  }
 },
 "nbformat": 4,
 "nbformat_minor": 5
}
