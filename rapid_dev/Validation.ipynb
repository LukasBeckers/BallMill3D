{
 "cells": [
  {
   "cell_type": "code",
   "execution_count": 1,
   "id": "feb0e242-20ef-4903-ba18-28e59215bfda",
   "metadata": {},
   "outputs": [],
   "source": [
    "import sys\n",
    "import os\n",
    "from scipy import linalg\n",
    "import matplotlib.pyplot as plt\n",
    "from mpl_toolkits.mplot3d import Axes3D\n",
    "import plotly.graph_objects as go\n",
    "sys.path.append(\"..\")\n",
    "\n",
    "from utils.detection_utils import *\n",
    "from utils.camera_utils import corner_detection"
   ]
  },
  {
   "cell_type": "code",
   "execution_count": 2,
   "id": "8d239f33-8709-4c53-b67c-a443d2e25884",
   "metadata": {},
   "outputs": [],
   "source": [
    "run_name = \"RUN4\"\n",
    "\n",
    "#spiegel_calib = \"spiegel1.mp4\"\n",
    "#front_calib = \"front.mp4\"\n",
    "#stereo_calib = \"stereo.mp4\"\n",
    "stereo_calib = \"stereo3.mp4\"\n",
    "stereo_calib2 = \"stereo4.mp4\"\n",
    "rows = 8\n",
    "columns = 10\n",
    "image_scaling = 3\n",
    "fallback_manual = True"
   ]
  },
  {
   "cell_type": "code",
   "execution_count": null,
   "id": "fe459b7a-3f07-4538-9fd1-bd1d5f046936",
   "metadata": {},
   "outputs": [],
   "source": [
    "rows_inner = rows - 1\n",
    "columns_inner = columns - 1"
   ]
  },
  {
   "cell_type": "code",
   "execution_count": null,
   "id": "e07fbec1-6124-4995-8999-3b1489b17d5b",
   "metadata": {},
   "outputs": [],
   "source": [
    "calibration_dir = f\"../videos/{run_name}/calibration\"\n",
    "detection_dir = f\"../videos/{run_name}/detection\"\n",
    "detection_files = os.listdir(detection_dir)\n",
    "sC = stereoCamera(name=run_name, camera_size={0: (480, 240), 1: (480, 240)})\n",
    "vL = videoLoader()"
   ]
  },
  {
   "cell_type": "code",
   "execution_count": null,
   "id": "62e9ca54-4306-434d-a8c8-e13c4f7361d1",
   "metadata": {},
   "outputs": [],
   "source": [
    "sC = stereoCamera()\n",
    "sC.load_from_yaml(f\"{run_name}.yaml\")"
   ]
  },
  {
   "cell_type": "code",
   "execution_count": null,
   "id": "4637e24c-cc0a-4836-9467-f0ed3afddf0a",
   "metadata": {},
   "outputs": [],
   "source": [
    "def triangulate(SC, point1, point2):\n",
    "    RT1 = np.concatenate([np.eye(3), [[0], [0], [0]]], axis=-1)\n",
    "    RT2 = np.concatenate([SC.conf[\"rotation_matrix\"][0], SC.conf[\"translation_matrix\"][0]], axis=-1)\n",
    "\n",
    "    cm0 = np.array(SC.conf[\"optimized_camera_matrix\"][0])\n",
    "    cm1 = np.array(SC.conf[\"optimized_camera_matrix\"][1])\n",
    "    dist0 = np.array(SC.conf[\"distortion\"][0])\n",
    "    dist1 = np.array(SC.conf[\"distortion\"][0])\n",
    "    \n",
    "    P1 = SC.conf[\"camera_matrix\"][0] @ RT1\n",
    "    P2 = SC.conf[\"camera_matrix\"][1] @ RT2\n",
    "\n",
    "    point1 = cv2.undistortPoints(point1, cm0, dist0 , None, cm0)[0][0]\n",
    "    point2 = cv2.undistortPoints(point2, cm1, dist1, None, cm0)[0][0]\n",
    "\n",
    "    coordinate = cv2.triangulatePoints(P1, P2, point1, point2)\n",
    "    coordinate = (coordinate[:3, :] / coordinate[3, :]).T[0]\n",
    "\n",
    "    return coordinate"
   ]
  },
  {
   "cell_type": "code",
   "execution_count": null,
   "id": "3082a07c-2a6e-4c29-83bf-0f3654d37d8a",
   "metadata": {},
   "outputs": [],
   "source": [
    "file = os.path.join(calibration_dir, stereo_calib)\n",
    "vL.load_video(file)\n",
    "frame = vL[170]\n",
    "frame1, frame2 = sC(frame)\n",
    "frames1, frames2 = [frame1], [frame2]"
   ]
  },
  {
   "cell_type": "code",
   "execution_count": null,
   "id": "5cfc2823-8518-4906-8bda-6f3599b3c65f",
   "metadata": {},
   "outputs": [],
   "source": [
    "corners1 = corner_detection(frames1, cam=0, image_scaling=image_scaling, rows_inner=rows_inner, columns_inner=columns_inner, fallback_manual=fallback_manual)\n",
    "corners1 = corner_detection(frames2, cam=1, image_scaling=image_scaling, rows_inner=rows_inner, columns_inner=columns_inner, fallback_manual=fallback_manual)\n"
   ]
  },
  {
   "cell_type": "code",
   "execution_count": null,
   "id": "256268b4-559e-4f0a-b0c5-3b4e28c2422a",
   "metadata": {},
   "outputs": [],
   "source": [
    "corners1, corners2 = show_and_switch(frame1, frame2, corners1, corners2, 8, 10, image_scaling=2)"
   ]
  },
  {
   "cell_type": "code",
   "execution_count": null,
   "id": "a901b183-3170-4f62-863a-be97d4bff99d",
   "metadata": {},
   "outputs": [],
   "source": [
    "coordinates = []\n",
    "\n",
    "for [point1], [point2] in zip(corners1, corners2):\n",
    "    coordinates.append(triangulate(sC, point1, point2))"
   ]
  },
  {
   "cell_type": "code",
   "execution_count": null,
   "id": "63e48f11-28b7-4c45-8f17-216e01aeab55",
   "metadata": {},
   "outputs": [],
   "source": [
    "coordinates\n",
    "\n",
    "# Redefine the points with the provided smaller subset\n",
    "points_smaller_subset = coordinates\n",
    "\n",
    "# Calculate distances between consecutive 3D points for the smaller subset\n",
    "distances_smaller_subset = [np.linalg.norm(points_smaller_subset[i+1] - points_smaller_subset[i]) for i in range(len(points_smaller_subset) - 1)]\n",
    "np.array([x for x in distances_smaller_subset if x < 0.01]).mean(), \"Distance start - end (diagonaly) =\", np.linalg.norm(coordinates[5]- coordinates[-6]), coordinates[0], coordinates[-1]"
   ]
  },
  {
   "cell_type": "code",
   "execution_count": null,
   "id": "7cca5eb1-3e5f-4355-83a3-9ee13668d07f",
   "metadata": {},
   "outputs": [],
   "source": [
    "np.mean([np.linalg.norm(points_smaller_subset[(7*j)+i]- points_smaller_subset[7+(7*j)+i]) for i in range(7) for j in range(8)])"
   ]
  },
  {
   "cell_type": "code",
   "execution_count": null,
   "id": "4bb4dc55-c112-4354-9719-4ff9afb952df",
   "metadata": {},
   "outputs": [],
   "source": [
    "# Assuming 'coords' is your numpy array of 3D coordinates\n",
    "coords = np.array(coordinates)  # Update this line based on your actual data\n",
    "\n",
    "# Create line connections between sequential points\n",
    "connections = [[a, b] for a, b in zip(range(len(coords)-1), range(1, len(coords)))]\n",
    "\n",
    "# Calculate max range to set equal axes\n",
    "x_range = [coords[:, 0].min(), coords[:, 0].max()]\n",
    "y_range = [coords[:, 1].min(), coords[:, 1].max()]\n",
    "z_range = [coords[:, 2].min(), coords[:, 2].max()]\n",
    "\n",
    "# Find the maximum range\n",
    "max_range = max(x_range[1] - x_range[0], y_range[1] - y_range[0], z_range[1] - z_range[0])\n",
    "\n",
    "# Calculate the mid points for each axis\n",
    "x_mid = sum(x_range) / 2\n",
    "y_mid = sum(y_range) / 2\n",
    "z_mid = sum(z_range) / 2\n",
    "\n",
    "# Set the range for each axis to be the max range centered around the mid point\n",
    "x_range = [x_mid - max_range / 2, x_mid + max_range / 2]\n",
    "y_range = [y_mid - max_range / 2, y_mid + max_range / 2]\n",
    "z_range = [z_mid - max_range / 2, z_mid + max_range / 2]\n",
    "\n",
    "# Create the figure object\n",
    "fig = go.Figure()\n",
    "\n",
    "# Add lines between connected points\n",
    "for conn in connections:\n",
    "    fig.add_trace(go.Scatter3d(\n",
    "        x=[coords[conn[0], 0], coords[conn[1], 0]],\n",
    "        y=[coords[conn[0], 1], coords[conn[1], 1]],\n",
    "        z=[coords[conn[0], 2], coords[conn[1], 2]],\n",
    "        mode='lines',\n",
    "        line=dict(color='blue', width=2),\n",
    "        name='Line'\n",
    "    ))\n",
    "\n",
    "# Add markers for each point\n",
    "fig.add_trace(go.Scatter3d(\n",
    "    x=coords[:, 0],\n",
    "    y=coords[:, 1],\n",
    "    z=coords[:, 2],\n",
    "    mode='markers',\n",
    "    marker=dict(size=1, color='red'),\n",
    "    name='Points'\n",
    "))\n",
    "\n",
    "# Update plot appearance\n",
    "fig.update_layout(\n",
    "    title=\"3D Line Plot\",\n",
    "    scene=dict(\n",
    "        xaxis_title='X Coordinate',\n",
    "        yaxis_title='Y Coordinate',\n",
    "        zaxis_title='Z Coordinate',\n",
    "        xaxis=dict(range=x_range, autorange=False),\n",
    "        yaxis=dict(range=y_range, autorange=False),\n",
    "        zaxis=dict(range=z_range, autorange=False),\n",
    "        aspectmode='manual',\n",
    "        aspectratio=dict(x=1, y=1, z=1)\n",
    "    )\n",
    ")\n",
    "\n",
    "# Show the plot\n",
    "fig.show()"
   ]
  },
  {
   "cell_type": "code",
   "execution_count": null,
   "id": "1da5fa77-7ad4-45c0-b938-b15d035a6c5a",
   "metadata": {},
   "outputs": [],
   "source": [
    "file = os.path.join(calibration_dir, stereo_calib2)\n",
    "vL.load_video(file)\n",
    "frame = vL[150]\n",
    "frame1, frame2 = sC(frame)"
   ]
  },
  {
   "cell_type": "code",
   "execution_count": null,
   "id": "006a9fbe-7cb5-47d5-964c-f8037dc8c27f",
   "metadata": {},
   "outputs": [],
   "source": [
    "corners1 = label_corners(np.ascontiguousarray(frame1), optimize=False)\n",
    "corners2 = label_corners(np.ascontiguousarray(frame2), optimize=False)"
   ]
  },
  {
   "cell_type": "code",
   "execution_count": null,
   "id": "8856334a-f8fb-4d4b-96ba-6a5d080a1b87",
   "metadata": {},
   "outputs": [],
   "source": [
    "\n",
    "\n",
    "corners1, corners2 = show_and_switch(frame1, frame2, corners1, corners2, 8, 10)"
   ]
  },
  {
   "cell_type": "code",
   "execution_count": null,
   "id": "acd3779a-305e-42d8-9b3e-4fadf67b2c19",
   "metadata": {},
   "outputs": [],
   "source": [
    "for [point1], [point2] in zip(corners1, corners2):\n",
    "    coordinates.append(triangulate(sC, point1, point2))"
   ]
  },
  {
   "cell_type": "code",
   "execution_count": null,
   "id": "142e7611-56c7-45e7-a626-74453680342d",
   "metadata": {},
   "outputs": [],
   "source": [
    "# Assuming 'coords' is your numpy array of 3D coordinates\n",
    "coords = np.array(coordinates)  # Update this line based on your actual data\n",
    "\n",
    "# Create line connections between sequential points\n",
    "connections = [[a, b] for a, b in zip(range(len(coords)-1), range(1, len(coords)))]\n",
    "\n",
    "# Calculate max range to set equal axes\n",
    "x_range = [coords[:, 0].min(), coords[:, 0].max()]\n",
    "y_range = [coords[:, 1].min(), coords[:, 1].max()]\n",
    "z_range = [coords[:, 2].min(), coords[:, 2].max()]\n",
    "\n",
    "# Find the maximum range\n",
    "max_range = max(x_range[1] - x_range[0], y_range[1] - y_range[0], z_range[1] - z_range[0])\n",
    "\n",
    "# Calculate the mid points for each axis\n",
    "x_mid = sum(x_range) / 2\n",
    "y_mid = sum(y_range) / 2\n",
    "z_mid = sum(z_range) / 2\n",
    "\n",
    "# Set the range for each axis to be the max range centered around the mid point\n",
    "x_range = [x_mid - max_range / 2, x_mid + max_range / 2]\n",
    "y_range = [y_mid - max_range / 2, y_mid + max_range / 2]\n",
    "z_range = [z_mid - max_range / 2, z_mid + max_range / 2]\n",
    "\n",
    "# Create the figure object\n",
    "fig = go.Figure()\n",
    "\n",
    "# Add lines between connected points\n",
    "for conn in connections:\n",
    "    fig.add_trace(go.Scatter3d(\n",
    "        x=[coords[conn[0], 0], coords[conn[1], 0]],\n",
    "        y=[coords[conn[0], 1], coords[conn[1], 1]],\n",
    "        z=[coords[conn[0], 2], coords[conn[1], 2]],\n",
    "        mode='lines',\n",
    "        line=dict(color='blue', width=2),\n",
    "        name='Line'\n",
    "    ))\n",
    "\n",
    "# Add markers for each point\n",
    "fig.add_trace(go.Scatter3d(\n",
    "    x=coords[:, 0],\n",
    "    y=coords[:, 1],\n",
    "    z=coords[:, 2],\n",
    "    mode='markers',\n",
    "    marker=dict(size=1, color='red'),\n",
    "    name='Points'\n",
    "))\n",
    "\n",
    "# Update plot appearance\n",
    "fig.update_layout(\n",
    "    title=\"3D Line Plot\",\n",
    "    scene=dict(\n",
    "        xaxis_title='X Coordinate',\n",
    "        yaxis_title='Y Coordinate',\n",
    "        zaxis_title='Z Coordinate',\n",
    "        xaxis=dict(range=x_range, autorange=False),\n",
    "        yaxis=dict(range=y_range, autorange=False),\n",
    "        zaxis=dict(range=z_range, autorange=False),\n",
    "        aspectmode='manual',\n",
    "        aspectratio=dict(x=1, y=1, z=1)\n",
    "    )\n",
    ")\n",
    "\n",
    "# Show the plot\n",
    "fig.show()"
   ]
  },
  {
   "cell_type": "code",
   "execution_count": null,
   "id": "11e8b55e-5f37-4494-b1e5-929c0ff3dc3e",
   "metadata": {},
   "outputs": [],
   "source": []
  },
  {
   "cell_type": "code",
   "execution_count": null,
   "id": "bc4cc114-a72c-4384-b22c-a6cb16fa8ccb",
   "metadata": {},
   "outputs": [],
   "source": []
  }
 ],
 "metadata": {
  "kernelspec": {
   "display_name": "Python 3 (ipykernel)",
   "language": "python",
   "name": "python3"
  },
  "language_info": {
   "codemirror_mode": {
    "name": "ipython",
    "version": 3
   },
   "file_extension": ".py",
   "mimetype": "text/x-python",
   "name": "python",
   "nbconvert_exporter": "python",
   "pygments_lexer": "ipython3",
   "version": "3.12.3"
  }
 },
 "nbformat": 4,
 "nbformat_minor": 5
}
