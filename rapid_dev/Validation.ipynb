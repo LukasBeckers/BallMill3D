{
 "cells": [
  {
   "cell_type": "code",
   "execution_count": 1,
   "id": "feb0e242-20ef-4903-ba18-28e59215bfda",
   "metadata": {},
   "outputs": [],
   "source": [
    "import sys\n",
    "import os\n",
    "from scipy import linalg\n",
    "import matplotlib.pyplot as plt\n",
    "from mpl_toolkits.mplot3d import Axes3D\n",
    "import plotly.graph_objects as go\n",
    "sys.path.append(\"..\")\n",
    "\n",
    "from utils.validation_utils import chessboardValidator\n",
    "from utils.video_utils import videoLoader"
   ]
  },
  {
   "cell_type": "code",
   "execution_count": 2,
   "id": "8d239f33-8709-4c53-b67c-a443d2e25884",
   "metadata": {},
   "outputs": [],
   "source": [
    "run_name = \"RUN4\"\n",
    "\n",
    "validation_video1 = \"stereo3.mp4\"\n",
    "validation_video2 = \"stereo4.mp4\"\n",
    "rows = 8\n",
    "columns = 10\n",
    "image_scaling = 3\n",
    "fallback_manual = True"
   ]
  },
  {
   "cell_type": "code",
   "execution_count": 3,
   "id": "e07fbec1-6124-4995-8999-3b1489b17d5b",
   "metadata": {},
   "outputs": [],
   "source": [
    "calibration_dir = f\"../videos/{run_name}/calibration\"\n",
    "detection_dir = f\"../videos/{run_name}/detection\"\n",
    "detection_files = os.listdir(detection_dir)\n"
   ]
  },
  {
   "cell_type": "code",
   "execution_count": 4,
   "id": "62e9ca54-4306-434d-a8c8-e13c4f7361d1",
   "metadata": {},
   "outputs": [],
   "source": [
    "validator = chessboardValidator()\n",
    "vL = videoLoader()\n",
    "validator.load_from_yaml(f\"{run_name}.yaml\")"
   ]
  },
  {
   "cell_type": "code",
   "execution_count": 5,
   "id": "3082a07c-2a6e-4c29-83bf-0f3654d37d8a",
   "metadata": {},
   "outputs": [],
   "source": [
    "file1 = os.path.join(calibration_dir, validation_video1)\n",
    "file2 = os.path.join(calibration_dir, validation_video2)\n",
    "vL.load_video(file1)\n",
    "frame1 = vL[170]\n",
    "vL.load_video(file2)\n",
    "frame2 = vL[170]\n"
   ]
  },
  {
   "cell_type": "code",
   "execution_count": null,
   "id": "c0228107-dff6-4dd9-99bd-c41ded28820e",
   "metadata": {},
   "outputs": [],
   "source": [
    "validator.add_calibration_frame(frame1, rows, columns)\n",
    "validator.add_calibration_frame(frame2, rows, columns)"
   ]
  },
  {
   "cell_type": "code",
   "execution_count": null,
   "id": "ad1dd3eb-e6cf-4bed-8795-a22e0967bf52",
   "metadata": {},
   "outputs": [],
   "source": [
    "validator.validate(image_scaling=4)"
   ]
  },
  {
   "cell_type": "code",
   "execution_count": null,
   "id": "28f1f979-d171-4354-8e4f-66eb31d82a97",
   "metadata": {},
   "outputs": [],
   "source": []
  }
 ],
 "metadata": {
  "kernelspec": {
   "display_name": "Python 3 (ipykernel)",
   "language": "python",
   "name": "python3"
  },
  "language_info": {
   "codemirror_mode": {
    "name": "ipython",
    "version": 3
   },
   "file_extension": ".py",
   "mimetype": "text/x-python",
   "name": "python",
   "nbconvert_exporter": "python",
   "pygments_lexer": "ipython3",
   "version": "3.12.3"
  }
 },
 "nbformat": 4,
 "nbformat_minor": 5
}
