{
 "cells": [
  {
   "cell_type": "code",
   "execution_count": null,
   "id": "3507e7e7-a1d1-4b36-b52d-112afdf5076d",
   "metadata": {},
   "outputs": [],
   "source": [
    "import sys\n",
    "import os\n",
    "from scipy import linalg\n",
    "import matplotlib.pyplot as plt\n",
    "from mpl_toolkits.mplot3d import Axes3D\n",
    "import plotly.graph_objects as go\n",
    "sys.path.append(\"..\")\n",
    "# Enable interactive plotting in Jupyter Notebook\n",
    "\n",
    "from utils.camera_utils import *"
   ]
  },
  {
   "cell_type": "code",
   "execution_count": null,
   "id": "fef516fc-a224-43f4-802c-199b88ec54fd",
   "metadata": {},
   "outputs": [],
   "source": [
    "run_name = \"RUN2\"\n",
    "\n",
    "spiegel_calib = \"spiegel.mp4\"\n",
    "front_calib = \"front.mp4\"\n",
    "stereo_calib = \"stereo.mp4\""
   ]
  },
  {
   "cell_type": "code",
   "execution_count": null,
   "id": "3454b97a-fcc6-4eea-ae13-e759cffae4ce",
   "metadata": {},
   "outputs": [],
   "source": [
    "calibration_dir = f\"../videos/{run_name}/calibration\"\n",
    "detection_dir = f\"../videos/{run_name}/detection\"\n",
    "detection_files = os.listdir(detection_dir)\n",
    "sC = stereoCamera(name=run_name, camera_size={0: (480, 240), 1: (480, 240)})\n",
    "vL = videoLoader()\n"
   ]
  },
  {
   "cell_type": "markdown",
   "id": "8762dd07-2466-4074-b1d5-365a184ebcd3",
   "metadata": {},
   "source": [
    "# Setting the Camera Positions"
   ]
  },
  {
   "cell_type": "code",
   "execution_count": null,
   "id": "987b62b4-b2e2-4c3a-90e5-ee80141d5d11",
   "metadata": {},
   "outputs": [],
   "source": [
    "vL.load_video(os.path.join(detection_dir, detection_files[0]))\n",
    "frame = vL[10]\n",
    "# 0 = mirror-cam 1 = frontal-cam\n",
    "sC.set_anchor_point(frame, 0)\n",
    "sC.set_anchor_point(frame, 1)\n",
    "for frame in vL[:100]:\n",
    "    frame = sC.draw_camera_region(frame)\n",
    "    cv2.imshow(\"Frame\", frame)\n",
    "    frame0, frame1 = sC(frame)\n",
    "    cv2.waitKey(10)\n",
    "cv2.destroyAllWindows()\n"
   ]
  },
  {
   "cell_type": "markdown",
   "id": "f5f377a6-4212-4194-9c9c-183d6e116721",
   "metadata": {},
   "source": [
    "# Mirror Calibration"
   ]
  },
  {
   "cell_type": "code",
   "execution_count": null,
   "id": "9bd30744-9356-49dc-a497-d0a5671e29b0",
   "metadata": {},
   "outputs": [],
   "source": [
    "vL.load_video(os.path.join(calibration_dir, spiegel_calib))\n",
    "frames = vL[100:110]\n",
    "sC.calibrate(frames,0, rows=5, columns=6)"
   ]
  },
  {
   "cell_type": "markdown",
   "id": "d15d3a9f-7af5-4122-809d-ec53a30bf2f5",
   "metadata": {},
   "source": [
    "# Frontal Calibration"
   ]
  },
  {
   "cell_type": "code",
   "execution_count": null,
   "id": "2f033a5c-29c9-4171-b4db-1063b82de726",
   "metadata": {},
   "outputs": [],
   "source": [
    "vL.load_video(os.path.join(calibration_dir, front_calib))\n",
    "frames = vL[100:110]\n",
    "sC.calibrate(frames,1, rows=5, columns=6)"
   ]
  },
  {
   "cell_type": "markdown",
   "id": "cefdc60f-3419-4779-8a9c-09693e4e003d",
   "metadata": {},
   "source": [
    "# Stereo Calibration"
   ]
  },
  {
   "cell_type": "code",
   "execution_count": null,
   "id": "f62175ff-d9f0-45dc-9b81-795ecb14fda8",
   "metadata": {},
   "outputs": [],
   "source": [
    "#sC.save_to_yaml(f\"{run_name}.yaml\")\n",
    "sC.load_from_yaml(f\"{run_name}.yaml\")"
   ]
  },
  {
   "cell_type": "code",
   "execution_count": null,
   "id": "b9d02fb8-b977-43d3-aac0-6752772af9dc",
   "metadata": {},
   "outputs": [],
   "source": [
    "vL.load_video(os.path.join(calibration_dir, stereo_calib))\n",
    "frames = vL[100:101]\n",
    "sC.stereo_calibrate(frames,1)"
   ]
  },
  {
   "cell_type": "code",
   "execution_count": null,
   "id": "8a08b898-cf86-4b1d-8855-e72751606f01",
   "metadata": {},
   "outputs": [],
   "source": [
    "sC.save_to_yaml(f\"{run_name}.yaml\")"
   ]
  },
  {
   "cell_type": "code",
   "execution_count": null,
   "id": "0b9db116-56d5-4716-8b7d-8d9a239c8753",
   "metadata": {},
   "outputs": [],
   "source": [
    "sC.load_from_yaml(f\"{run_name}.yaml\")"
   ]
  },
  {
   "cell_type": "code",
   "execution_count": null,
   "id": "7a530cc3-0780-44b5-9495-a4805d31dd63",
   "metadata": {},
   "outputs": [],
   "source": [
    "sC.conf[\"anchor_point\"], sC.name"
   ]
  },
  {
   "cell_type": "code",
   "execution_count": null,
   "id": "6373aad5-415e-407b-b684-ec44d2fae841",
   "metadata": {},
   "outputs": [],
   "source": []
  }
 ],
 "metadata": {
  "kernelspec": {
   "display_name": "BallMill3D",
   "language": "python",
   "name": "venv"
  },
  "language_info": {
   "codemirror_mode": {
    "name": "ipython",
    "version": 3
   },
   "file_extension": ".py",
   "mimetype": "text/x-python",
   "name": "python",
   "nbconvert_exporter": "python",
   "pygments_lexer": "ipython3",
   "version": "3.10.12"
  }
 },
 "nbformat": 4,
 "nbformat_minor": 5
}
