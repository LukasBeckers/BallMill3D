{
 "cells": [
  {
   "cell_type": "code",
   "execution_count": 1,
   "id": "3507e7e7-a1d1-4b36-b52d-112afdf5076d",
   "metadata": {},
   "outputs": [],
   "source": [
    "import sys\n",
    "import os\n",
    "from scipy import linalg\n",
    "import matplotlib.pyplot as plt\n",
    "from mpl_toolkits.mplot3d import Axes3D\n",
    "import plotly.graph_objects as go\n",
    "sys.path.append(\"..\")\n",
    "# Enable interactive plotting in Jupyter Notebook\n",
    "\n",
    "from utils.camera_utils import *"
   ]
  },
  {
   "cell_type": "code",
   "execution_count": 2,
   "id": "fef516fc-a224-43f4-802c-199b88ec54fd",
   "metadata": {},
   "outputs": [],
   "source": [
    "run_name = \"RUN1\"\n",
    "\n",
    "spiegel_calib = \"spiegel.mp4\"\n",
    "front_calib = \"front.mp4\"\n",
    "stereo_calib = \"stereo.mp4\""
   ]
  },
  {
   "cell_type": "code",
   "execution_count": 3,
   "id": "3454b97a-fcc6-4eea-ae13-e759cffae4ce",
   "metadata": {},
   "outputs": [],
   "source": [
    "calibration_dir = f\"../videos/{run_name}/calibration\"\n",
    "detection_dir = f\"../videos/{run_name}/detection\"\n",
    "detection_files = os.listdir(detection_dir)\n",
    "sC = stereoCamera(name=run_name, camera_size={0: (480, 240), 1: (480, 240)})\n",
    "vL = videoLoader()\n"
   ]
  },
  {
   "cell_type": "markdown",
   "id": "8762dd07-2466-4074-b1d5-365a184ebcd3",
   "metadata": {},
   "source": [
    "# Setting the Camera Positions"
   ]
  },
  {
   "cell_type": "code",
   "execution_count": 4,
   "id": "987b62b4-b2e2-4c3a-90e5-ee80141d5d11",
   "metadata": {},
   "outputs": [
    {
     "name": "stdout",
     "output_type": "stream",
     "text": [
      "Left mouse button pressed! (591, 271)\n",
      "Left mouse button pressed! (611, 437)\n"
     ]
    }
   ],
   "source": [
    "vL.load_video(os.path.join(detection_dir, detection_files[-1]))\n",
    "frame = vL[10]\n",
    "# 0 = mirror-cam 1 = frontal-cam\n",
    "sC.set_anchor_point(frame, 0)\n",
    "sC.set_anchor_point(frame, 1)\n",
    "for frame in vL[:100]:\n",
    "    frame = sC.draw_camera_region(frame)\n",
    "    cv2.imshow(\"Frame\", frame)\n",
    "    frame0, frame1 = sC(frame)\n",
    "    cv2.waitKey(10)\n",
    "cv2.destroyAllWindows()\n"
   ]
  },
  {
   "cell_type": "markdown",
   "id": "f5f377a6-4212-4194-9c9c-183d6e116721",
   "metadata": {},
   "source": [
    "# Mirror Calibration"
   ]
  },
  {
   "cell_type": "code",
   "execution_count": 5,
   "id": "9bd30744-9356-49dc-a497-d0a5671e29b0",
   "metadata": {},
   "outputs": [
    {
     "name": "stdout",
     "output_type": "stream",
     "text": [
      "Left mouse button pressed! [(743, 325)]\n",
      "Left mouse button pressed! [(743, 325), (1165, 616)]\n",
      "rmse: 0.36742445792090495\n",
      "camera matrix:\n",
      " [[1.60724179e+04 0.00000000e+00 9.36636703e+02]\n",
      " [0.00000000e+00 2.65246812e+03 5.22708070e+02]\n",
      " [0.00000000e+00 0.00000000e+00 1.00000000e+00]]\n",
      "optimized camera matrix:\n",
      " [[1.23250078e+04 0.00000000e+00 7.95349088e+02]\n",
      " [0.00000000e+00 2.03387538e+03 4.97362653e+02]\n",
      " [0.00000000e+00 0.00000000e+00 1.00000000e+00]]\n",
      "distortion coeffs:\n",
      " [[-3.11616143e+00 -2.21820425e+01 -7.33170537e-02 -1.15222512e-01\n",
      "   2.61042075e+02]]\n"
     ]
    }
   ],
   "source": [
    "vL.load_video(os.path.join(calibration_dir, spiegel_calib))\n",
    "frames = vL[100:110]\n",
    "sC.calibrate(frames,0, rows=7, columns=9)"
   ]
  },
  {
   "cell_type": "markdown",
   "id": "d15d3a9f-7af5-4122-809d-ec53a30bf2f5",
   "metadata": {},
   "source": [
    "# Frontal Calibration"
   ]
  },
  {
   "cell_type": "code",
   "execution_count": 6,
   "id": "2f033a5c-29c9-4171-b4db-1063b82de726",
   "metadata": {},
   "outputs": [
    {
     "name": "stdout",
     "output_type": "stream",
     "text": [
      "Left mouse button pressed! [(619, 172)]\n",
      "Left mouse button pressed! [(619, 172), (1174, 588)]\n",
      "rmse: 0.22503628591610367\n",
      "camera matrix:\n",
      " [[670.84509792   0.         268.38193528]\n",
      " [  0.         725.14575489 248.88178474]\n",
      " [  0.           0.           1.        ]]\n",
      "optimized camera matrix:\n",
      " [[670.84509792   0.         268.38193528]\n",
      " [  0.         574.60226231 283.36866705]\n",
      " [  0.           0.           1.        ]]\n",
      "distortion coeffs:\n",
      " [[-9.31878125e-01  1.97486872e+01  7.94998294e-02  2.02151650e-02\n",
      "  -9.93146442e+01]]\n"
     ]
    }
   ],
   "source": [
    "vL.load_video(os.path.join(calibration_dir, front_calib))\n",
    "frames = vL[100:110]\n",
    "sC.calibrate(frames,1, rows=6, columns=8)"
   ]
  },
  {
   "cell_type": "markdown",
   "id": "cefdc60f-3419-4779-8a9c-09693e4e003d",
   "metadata": {},
   "source": [
    "# Stereo Calibration"
   ]
  },
  {
   "cell_type": "code",
   "execution_count": 7,
   "id": "b9d02fb8-b977-43d3-aac0-6752772af9dc",
   "metadata": {},
   "outputs": [
    {
     "name": "stdout",
     "output_type": "stream",
     "text": [
      "Current line: [777, 328]\n",
      "Current line: [777, 328, 746, 611]\n",
      "Current line: [824, 326]\n",
      "Current line: [824, 326, 796, 610]\n",
      "Current line: [871, 324]\n",
      "Current line: [871, 324, 845, 612]\n",
      "Current line: [919, 325]\n",
      "Current line: [919, 325, 894, 609]\n",
      "Current line: [964, 326]\n",
      "Current line: [964, 326, 944, 611]\n",
      "Current line: [1015, 326]\n",
      "Current line: [1015, 326, 994, 611]\n",
      "Current line: [1059, 323]\n",
      "Current line: [1059, 323, 1042, 611]\n",
      "Current line: [1110, 323]\n",
      "Current line: [1110, 323, 1096, 612]\n",
      "Current line: [1155, 324]\n",
      "Current line: [1155, 324, 1145, 618]\n",
      "Current line: [1192, 580]\n",
      "Current line: [1192, 580, 716, 575]\n",
      "Current line: [723, 536]\n",
      "Current line: [723, 536, 1183, 545]\n",
      "Current line: [1187, 503]\n",
      "Current line: [1187, 503, 724, 496]\n",
      "Current line: [738, 461]\n",
      "Current line: [738, 461, 1188, 467]\n",
      "Current line: [1184, 431]\n",
      "Current line: [1184, 431, 733, 424]\n",
      "Current line: [744, 388]\n",
      "Current line: [744, 388, 1188, 392]\n",
      "Current line: [1190, 360]\n",
      "Current line: [1190, 360, 749, 351]\n",
      "Current line: [692, 267]\n",
      "Current line: [692, 267, 657, 463]\n",
      "Current line: [725, 463]\n",
      "Current line: [725, 463, 748, 270]\n",
      "Current line: [801, 271]\n",
      "Current line: [801, 271, 787, 470]\n",
      "Current line: [845, 470]\n",
      "Current line: [845, 470, 858, 272]\n",
      "Current line: [914, 272]\n",
      "Current line: [914, 272, 909, 471]\n",
      "Current line: [969, 273]\n",
      "Current line: [969, 273, 969, 472]\n",
      "Current line: [1025, 280]\n",
      "Current line: [1025, 280, 1034, 479]\n",
      "Current line: [1080, 280]\n",
      "Current line: [1080, 280, 1092, 478]\n",
      "Current line: [1136, 278]\n",
      "Current line: [1136, 278, 1154, 479]\n",
      "Current line: [1197, 455]\n",
      "Current line: [1197, 455, 606, 440]\n",
      "Current line: [620, 411]\n",
      "Current line: [620, 411, 1192, 426]\n",
      "Current line: [1188, 402]\n",
      "Current line: [1188, 402, 631, 377]\n",
      "Current line: [641, 357]\n",
      "Current line: [641, 357, 1179, 375]\n",
      "Current line: [1177, 351]\n",
      "Current line: [1177, 351, 651, 331]\n",
      "Current line: [659, 306]\n",
      "Current line: [659, 306, 1156, 326]\n",
      "Current line: [1165, 304]\n",
      "Current line: [1165, 304, 662, 284]\n",
      "Stereo-calibration error: 0.5750706100159929\n",
      "Translation Matrix: [[ 1.12899887]\n",
      " [-0.20261217]\n",
      " [ 0.19575558]]\n",
      "Rotation Matrix: [[-7.43096651e-02  9.55438280e-02 -9.92647697e-01]\n",
      " [-7.87049453e-01 -6.16889738e-01 -4.57993042e-04]\n",
      " [-6.12397936e-01  7.81228794e-01  1.21038587e-01]]\n"
     ]
    }
   ],
   "source": [
    "vL.load_video(os.path.join(calibration_dir, stereo_calib))\n",
    "frames = vL[100:101]\n",
    "sC.stereo_calibrate(frames)"
   ]
  },
  {
   "cell_type": "markdown",
   "id": "2b18d327-8602-4306-802e-53173e503cf4",
   "metadata": {},
   "source": [
    "# Save Calibration to YAML"
   ]
  },
  {
   "cell_type": "code",
   "execution_count": 8,
   "id": "8a08b898-cf86-4b1d-8855-e72751606f01",
   "metadata": {},
   "outputs": [],
   "source": [
    "sC.save_to_yaml(f\"{run_name}.yaml\")"
   ]
  },
  {
   "cell_type": "code",
   "execution_count": null,
   "id": "0b9db116-56d5-4716-8b7d-8d9a239c8753",
   "metadata": {},
   "outputs": [],
   "source": [
    "sC.load_from_yaml(f\"{run_name}.yaml\")"
   ]
  },
  {
   "cell_type": "code",
   "execution_count": null,
   "id": "7a530cc3-0780-44b5-9495-a4805d31dd63",
   "metadata": {},
   "outputs": [],
   "source": [
    "sC.conf[\"anchor_point\"], sC.name"
   ]
  },
  {
   "cell_type": "code",
   "execution_count": null,
   "id": "6373aad5-415e-407b-b684-ec44d2fae841",
   "metadata": {},
   "outputs": [],
   "source": []
  }
 ],
 "metadata": {
  "kernelspec": {
   "display_name": "BallMill3D",
   "language": "python",
   "name": "venv"
  },
  "language_info": {
   "codemirror_mode": {
    "name": "ipython",
    "version": 3
   },
   "file_extension": ".py",
   "mimetype": "text/x-python",
   "name": "python",
   "nbconvert_exporter": "python",
   "pygments_lexer": "ipython3",
   "version": "3.10.12"
  }
 },
 "nbformat": 4,
 "nbformat_minor": 5
}
