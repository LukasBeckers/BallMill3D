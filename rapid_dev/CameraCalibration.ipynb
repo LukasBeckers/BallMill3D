{
 "cells": [
  {
   "cell_type": "code",
   "execution_count": 1,
   "id": "3507e7e7-a1d1-4b36-b52d-112afdf5076d",
   "metadata": {},
   "outputs": [],
   "source": [
    "import sys\n",
    "import os\n",
    "from scipy import linalg\n",
    "import matplotlib.pyplot as plt\n",
    "from mpl_toolkits.mplot3d import Axes3D\n",
    "import plotly.graph_objects as go\n",
    "sys.path.append(\"..\")\n",
    "# Enable interactive plotting in Jupyter Notebook\n",
    "\n",
    "from utils.camera_utils import *"
   ]
  },
  {
   "cell_type": "code",
   "execution_count": 2,
   "id": "fef516fc-a224-43f4-802c-199b88ec54fd",
   "metadata": {},
   "outputs": [],
   "source": [
    "run_name = \"RUN2\"\n",
    "\n",
    "spiegel_calib = \"spiegel.mp4\"\n",
    "front_calib = \"front.mp4\"\n",
    "stereo_calib = \"stereo.mp4\""
   ]
  },
  {
   "cell_type": "code",
   "execution_count": 3,
   "id": "3454b97a-fcc6-4eea-ae13-e759cffae4ce",
   "metadata": {},
   "outputs": [],
   "source": [
    "calibration_dir = f\"../videos/{run_name}/calibration\"\n",
    "detection_dir = f\"../videos/{run_name}/detection\"\n",
    "detection_files = os.listdir(detection_dir)\n",
    "sC = stereoCamera(camera_size={0: (480, 240), 1: (480, 240)})\n",
    "vL = videoLoader()\n"
   ]
  },
  {
   "cell_type": "markdown",
   "id": "8762dd07-2466-4074-b1d5-365a184ebcd3",
   "metadata": {},
   "source": [
    "# Setting the Camera Positions"
   ]
  },
  {
   "cell_type": "code",
   "execution_count": 4,
   "id": "987b62b4-b2e2-4c3a-90e5-ee80141d5d11",
   "metadata": {},
   "outputs": [
    {
     "name": "stdout",
     "output_type": "stream",
     "text": [
      "Left mouse button pressed! (632, 95)\n",
      "Left mouse button pressed! (640, 103)\n",
      "Left mouse button pressed! (634, 99)\n",
      "Left mouse button pressed! (660, 456)\n"
     ]
    }
   ],
   "source": [
    "vL.load_video(os.path.join(detection_dir, detection_files[0]))\n",
    "frame = vL[10]\n",
    "# 0 = mirror-cam 1 = frontal-cam\n",
    "sC.set_anchor_point(frame, 0)\n",
    "sC.set_anchor_point(frame, 1)\n",
    "for frame in vL[:100]:\n",
    "    frame = sC.draw_camera_region(frame)\n",
    "    cv2.imshow(\"Frame\", frame)\n",
    "    frame0, frame1 = sC(frame)\n",
    "    cv2.waitKey(10)\n",
    "cv2.destroyAllWindows()\n"
   ]
  },
  {
   "cell_type": "markdown",
   "id": "f5f377a6-4212-4194-9c9c-183d6e116721",
   "metadata": {},
   "source": [
    "# Mirror Calibration"
   ]
  },
  {
   "cell_type": "code",
   "execution_count": 8,
   "id": "9bd30744-9356-49dc-a497-d0a5671e29b0",
   "metadata": {},
   "outputs": [
    {
     "name": "stdout",
     "output_type": "stream",
     "text": [
      "Left mouse button pressed! [(758, 221)]\n",
      "Left mouse button pressed! [(758, 221), (1126, 473)]\n",
      "ret False\n",
      "ret False\n",
      "ret False\n",
      "ret True\n",
      "ret True\n",
      "ret True\n",
      "ret False\n",
      "ret False\n",
      "ret False\n",
      "ret False\n",
      "rmse: 0.1642170622286934\n",
      "camera matrix:\n",
      " [[385.63192176   0.         162.07463747]\n",
      " [  0.         399.76064182 137.283311  ]\n",
      " [  0.           0.           1.        ]]\n",
      "optimized camera matrix:\n",
      " [[351.17431698   0.         180.38545863]\n",
      " [  0.         208.20744321 101.8867699 ]\n",
      " [  0.           0.           1.        ]]\n",
      "distortion coeffs:\n",
      " [[-1.10375559e+00  1.33907035e+01  2.14867927e-02  7.85564484e-02\n",
      "  -8.46277323e+01]]\n"
     ]
    }
   ],
   "source": [
    "vL.load_video(os.path.join(calibration_dir, spiegel_calib))\n",
    "frames = vL[100:110]\n",
    "sC.calibrate(frames,0, rows=5, columns=6)"
   ]
  },
  {
   "cell_type": "markdown",
   "id": "d15d3a9f-7af5-4122-809d-ec53a30bf2f5",
   "metadata": {},
   "source": [
    "# Frontal Calibration"
   ]
  },
  {
   "cell_type": "code",
   "execution_count": 11,
   "id": "2f033a5c-29c9-4171-b4db-1063b82de726",
   "metadata": {},
   "outputs": [
    {
     "name": "stdout",
     "output_type": "stream",
     "text": [
      "Left mouse button pressed! [(1344, 185)]\n",
      "Left mouse button pressed! [(1344, 185), (935, 529)]\n",
      "ret False\n",
      "ret False\n",
      "ret False\n",
      "ret False\n",
      "ret False\n",
      "ret False\n",
      "ret False\n",
      "ret False\n",
      "ret False\n",
      "ret False\n",
      "No Corners were detected, failed calibration\n"
     ]
    }
   ],
   "source": [
    "vL.load_video(os.path.join(calibration_dir, front_calib))\n",
    "sC.calibrate(frames,1, rows=5, columns=6)"
   ]
  },
  {
   "cell_type": "code",
   "execution_count": null,
   "id": "49c9286f-5fab-423c-8824-380ff37cf5c4",
   "metadata": {},
   "outputs": [],
   "source": []
  }
 ],
 "metadata": {
  "kernelspec": {
   "display_name": "BallMill3D",
   "language": "python",
   "name": "venv"
  },
  "language_info": {
   "codemirror_mode": {
    "name": "ipython",
    "version": 3
   },
   "file_extension": ".py",
   "mimetype": "text/x-python",
   "name": "python",
   "nbconvert_exporter": "python",
   "pygments_lexer": "ipython3",
   "version": "3.10.12"
  }
 },
 "nbformat": 4,
 "nbformat_minor": 5
}
