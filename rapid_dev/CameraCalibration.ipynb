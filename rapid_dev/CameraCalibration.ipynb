{
 "cells": [
  {
   "cell_type": "code",
   "execution_count": 1,
   "id": "3507e7e7-a1d1-4b36-b52d-112afdf5076d",
   "metadata": {},
   "outputs": [],
   "source": [
    "import sys\n",
    "import os\n",
    "from scipy import linalg\n",
    "import matplotlib.pyplot as plt\n",
    "from mpl_toolkits.mplot3d import Axes3D\n",
    "import plotly.graph_objects as go\n",
    "sys.path.append(\"..\")\n",
    "# Enable interactive plotting in Jupyter Notebook\n",
    "\n",
    "from utils.camera_utils import *"
   ]
  },
  {
   "cell_type": "code",
   "execution_count": 2,
   "id": "fef516fc-a224-43f4-802c-199b88ec54fd",
   "metadata": {},
   "outputs": [],
   "source": [
    "run_name = \"RUN3\"\n",
    "\n",
    "spiegel_calib = \"spiegel.mp4\"\n",
    "front_calib = \"front.mp4\"\n",
    "stereo_calib = \"stereo.mp4\""
   ]
  },
  {
   "cell_type": "code",
   "execution_count": 3,
   "id": "3454b97a-fcc6-4eea-ae13-e759cffae4ce",
   "metadata": {},
   "outputs": [],
   "source": [
    "calibration_dir = f\"../videos/{run_name}/calibration\"\n",
    "detection_dir = f\"../videos/{run_name}/detection\"\n",
    "detection_files = os.listdir(detection_dir)\n",
    "sC = stereoCamera(name=run_name, camera_size={0: (480, 240), 1: (480, 240)})\n",
    "vL = videoLoader()\n"
   ]
  },
  {
   "cell_type": "markdown",
   "id": "8762dd07-2466-4074-b1d5-365a184ebcd3",
   "metadata": {},
   "source": [
    "# Setting the Camera Positions"
   ]
  },
  {
   "cell_type": "code",
   "execution_count": null,
   "id": "987b62b4-b2e2-4c3a-90e5-ee80141d5d11",
   "metadata": {},
   "outputs": [],
   "source": [
    "vL.load_video(os.path.join(detection_dir, detection_files[-1]))\n",
    "frame = vL[10]\n",
    "# 0 = mirror-cam 1 = frontal-cam\n",
    "sC.set_anchor_point(frame, 0)\n",
    "sC.set_anchor_point(frame, 1)\n",
    "for frame in vL[:100]:\n",
    "    frame = sC.draw_camera_region(frame)\n",
    "    cv2.imshow(\"Frame\", frame)\n",
    "    frame0, frame1 = sC(frame)\n",
    "    cv2.waitKey(10)\n",
    "cv2.destroyAllWindows()\n"
   ]
  },
  {
   "cell_type": "markdown",
   "id": "f5f377a6-4212-4194-9c9c-183d6e116721",
   "metadata": {},
   "source": [
    "# Mirror Calibration"
   ]
  },
  {
   "cell_type": "code",
   "execution_count": null,
   "id": "9bd30744-9356-49dc-a497-d0a5671e29b0",
   "metadata": {},
   "outputs": [],
   "source": [
    "vL.load_video(os.path.join(calibration_dir, spiegel_calib))\n",
    "frames = vL[100:110]\n",
    "sC.calibrate(frames,0, rows=8, columns=10)"
   ]
  },
  {
   "cell_type": "markdown",
   "id": "d15d3a9f-7af5-4122-809d-ec53a30bf2f5",
   "metadata": {},
   "source": [
    "# Frontal Calibration"
   ]
  },
  {
   "cell_type": "code",
   "execution_count": null,
   "id": "2f033a5c-29c9-4171-b4db-1063b82de726",
   "metadata": {},
   "outputs": [],
   "source": [
    "vL.load_video(os.path.join(calibration_dir, front_calib))\n",
    "frames = vL[100:110]\n",
    "sC.calibrate(frames,1, rows=7, columns=9)"
   ]
  },
  {
   "cell_type": "markdown",
   "id": "cefdc60f-3419-4779-8a9c-09693e4e003d",
   "metadata": {},
   "source": [
    "# Stereo Calibration"
   ]
  },
  {
   "cell_type": "code",
   "execution_count": 4,
   "id": "52095c43-e58b-4c93-bcf2-a4eae6f396c3",
   "metadata": {},
   "outputs": [],
   "source": [
    "vL.load_video(os.path.join(calibration_dir, stereo_calib))\n",
    "frames = vL[100::20]"
   ]
  },
  {
   "cell_type": "code",
   "execution_count": 5,
   "id": "4c21a261-aca0-43a2-85c5-b766f0fd0bd3",
   "metadata": {},
   "outputs": [
    {
     "name": "stdout",
     "output_type": "stream",
     "text": [
      "../videos/RUN3/calibration/stereo2.mp4\n",
      "../videos/RUN3/calibration/stereo4.mp4\n",
      "../videos/RUN3/calibration/stereo6.mp4\n"
     ]
    }
   ],
   "source": [
    "frames = [frames[0]]\n",
    "\n",
    "for i in range(2, 8, 2):\n",
    "    print(os.path.join(calibration_dir, f\"stereo{i}.mp4\"))\n",
    "    vL.load_video(os.path.join(calibration_dir, f\"stereo{i}.mp4\"))\n",
    "    frames.append(vL[100])\n"
   ]
  },
  {
   "cell_type": "code",
   "execution_count": 8,
   "id": "b9d02fb8-b977-43d3-aac0-6752772af9dc",
   "metadata": {},
   "outputs": [
    {
     "name": "stdout",
     "output_type": "stream",
     "text": [
      "Current line: [570, 209]\n",
      "Current line: [570, 209, 548, 387]\n",
      "Current line: [589, 390]\n",
      "Current line: [589, 390, 605, 211]\n",
      "Current line: [646, 211]\n",
      "Current line: [646, 211, 631, 393]\n",
      "Current line: [673, 393]\n",
      "Current line: [673, 393, 684, 213]\n",
      "Current line: [724, 213]\n",
      "Current line: [724, 213, 713, 392]\n",
      "Current line: [754, 392]\n",
      "Current line: [754, 392, 760, 213]\n",
      "Current line: [798, 213]\n",
      "Current line: [798, 213, 795, 389]\n",
      "Current line: [839, 394]\n",
      "Current line: [839, 394, 837, 213]\n",
      "Current line: [876, 213]\n",
      "Current line: [876, 213, 880, 390]\n",
      "Current line: [914, 370]\n",
      "Current line: [914, 370, 523, 366]\n",
      "Current line: [523, 342]\n",
      "Current line: [523, 342, 906, 348]\n",
      "Current line: [904, 322]\n",
      "Current line: [904, 322, 527, 319]\n",
      "Current line: [534, 295]\n",
      "Current line: [534, 295, 897, 297]\n",
      "Current line: [900, 276]\n",
      "Current line: [900, 276, 535, 271]\n",
      "Current line: [536, 251]\n",
      "Current line: [536, 251, 903, 253]\n",
      "Current line: [900, 231]\n",
      "Current line: [900, 231, 537, 226]\n",
      "Current line: [573, 130]\n",
      "Current line: [573, 130, 556, 486]\n",
      "Current line: [628, 483]\n",
      "Current line: [628, 483, 635, 130]\n",
      "Current line: [699, 133]\n",
      "Current line: [699, 133, 697, 486]\n",
      "Removing last line\n",
      "Current line: [700, 125]\n",
      "Current line: [700, 125, 701, 485]\n",
      "Current line: [774, 487]\n",
      "Current line: [774, 487, 763, 128]\n",
      "Current line: [825, 130]\n",
      "Current line: [825, 130, 849, 487]\n",
      "Current line: [923, 483]\n",
      "Current line: [923, 483, 888, 130]\n",
      "Current line: [951, 129]\n",
      "Current line: [951, 129, 995, 484]\n",
      "Current line: [1069, 484]\n",
      "Current line: [1069, 484, 1015, 134]\n",
      "Current line: [1078, 129]\n",
      "Current line: [1078, 129, 1143, 482]\n",
      "Current line: [1192, 431]\n",
      "Current line: [1192, 431, 497, 435]\n",
      "Current line: [505, 386]\n",
      "Current line: [505, 386, 1170, 379]\n",
      "Current line: [1165, 333]\n",
      "Current line: [1165, 333, 511, 336]\n",
      "Current line: [520, 291]\n",
      "Current line: [520, 291, 1148, 284]\n",
      "Current line: [1149, 243]\n",
      "Current line: [1149, 243, 530, 249]\n",
      "Current line: [535, 206]\n",
      "Current line: [535, 206, 1148, 199]\n",
      "Current line: [1136, 161]\n",
      "Current line: [1136, 161, 533, 164]\n",
      "(63, 1, 2)\n"
     ]
    },
    {
     "ename": "error",
     "evalue": "OpenCV(4.9.0) /io/opencv/modules/imgproc/src/cornersubpix.cpp:58: error: (-215:Assertion failed) count >= 0 in function 'cornerSubPix'\n",
     "output_type": "error",
     "traceback": [
      "\u001b[0;31m---------------------------------------------------------------------------\u001b[0m",
      "\u001b[0;31merror\u001b[0m                                     Traceback (most recent call last)",
      "Cell \u001b[0;32mIn[8], line 1\u001b[0m\n\u001b[0;32m----> 1\u001b[0m \u001b[43msC\u001b[49m\u001b[38;5;241;43m.\u001b[39;49m\u001b[43mstereo_calibrate\u001b[49m\u001b[43m(\u001b[49m\u001b[43mframes\u001b[49m\u001b[43m,\u001b[49m\u001b[43m \u001b[49m\u001b[43mrows\u001b[49m\u001b[38;5;241;43m=\u001b[39;49m\u001b[38;5;241;43m8\u001b[39;49m\u001b[43m,\u001b[49m\u001b[43m \u001b[49m\u001b[43mcolumns\u001b[49m\u001b[38;5;241;43m=\u001b[39;49m\u001b[38;5;241;43m10\u001b[39;49m\u001b[43m,\u001b[49m\u001b[43m \u001b[49m\u001b[43mmanual\u001b[49m\u001b[38;5;241;43m=\u001b[39;49m\u001b[38;5;28;43;01mTrue\u001b[39;49;00m\u001b[43m)\u001b[49m\n",
      "File \u001b[0;32m/mnt/Projekte/BallMill3D/rapid_dev/../utils/camera_utils.py:344\u001b[0m, in \u001b[0;36mstereoCamera.stereo_calibrate\u001b[0;34m(self, images, rows, columns, scaling, manual)\u001b[0m\n\u001b[1;32m    342\u001b[0m \u001b[38;5;66;03m# Refining the predictions\u001b[39;00m\n\u001b[1;32m    343\u001b[0m \u001b[38;5;28mprint\u001b[39m(corners1\u001b[38;5;241m.\u001b[39mshape)\n\u001b[0;32m--> 344\u001b[0m corners1 \u001b[38;5;241m=\u001b[39m \u001b[43mcv2\u001b[49m\u001b[38;5;241;43m.\u001b[39;49m\u001b[43mcornerSubPix\u001b[49m\u001b[43m(\u001b[49m\u001b[43mimg1\u001b[49m\u001b[43m,\u001b[49m\u001b[43m \u001b[49m\u001b[43mcorners1\u001b[49m\u001b[38;5;241;43m.\u001b[39;49m\u001b[43mreshape\u001b[49m\u001b[43m(\u001b[49m\u001b[38;5;241;43m-\u001b[39;49m\u001b[38;5;241;43m1\u001b[39;49m\u001b[43m,\u001b[49m\u001b[43m \u001b[49m\u001b[38;5;241;43m1\u001b[39;49m\u001b[43m,\u001b[49m\u001b[43m \u001b[49m\u001b[38;5;241;43m2\u001b[39;49m\u001b[43m)\u001b[49m\u001b[43m,\u001b[49m\u001b[43m \u001b[49m\u001b[43m(\u001b[49m\u001b[38;5;241;43m11\u001b[39;49m\u001b[43m,\u001b[49m\u001b[43m \u001b[49m\u001b[38;5;241;43m11\u001b[39;49m\u001b[43m)\u001b[49m\u001b[43m,\u001b[49m\u001b[43m \u001b[49m\u001b[43m(\u001b[49m\u001b[38;5;241;43m-\u001b[39;49m\u001b[38;5;241;43m1\u001b[39;49m\u001b[43m,\u001b[49m\u001b[43m \u001b[49m\u001b[38;5;241;43m-\u001b[39;49m\u001b[38;5;241;43m1\u001b[39;49m\u001b[43m)\u001b[49m\u001b[43m,\u001b[49m\u001b[43m \u001b[49m\u001b[43mcriteria\u001b[49m\u001b[43m)\u001b[49m\n\u001b[1;32m    345\u001b[0m corners2 \u001b[38;5;241m=\u001b[39m cv2\u001b[38;5;241m.\u001b[39mcornerSubPix(img2, corners2\u001b[38;5;241m.\u001b[39mreshape(\u001b[38;5;241m-\u001b[39m\u001b[38;5;241m1\u001b[39m, \u001b[38;5;241m1\u001b[39m, \u001b[38;5;241m2\u001b[39m), (\u001b[38;5;241m11\u001b[39m, \u001b[38;5;241m11\u001b[39m), (\u001b[38;5;241m-\u001b[39m\u001b[38;5;241m1\u001b[39m, \u001b[38;5;241m-\u001b[39m\u001b[38;5;241m1\u001b[39m), criteria)\n\u001b[1;32m    348\u001b[0m \u001b[38;5;28;01mdef\u001b[39;00m \u001b[38;5;21mdraw_and_switch\u001b[39m(img1, img2, corners1, corners2):\n",
      "\u001b[0;31merror\u001b[0m: OpenCV(4.9.0) /io/opencv/modules/imgproc/src/cornersubpix.cpp:58: error: (-215:Assertion failed) count >= 0 in function 'cornerSubPix'\n"
     ]
    }
   ],
   "source": [
    "sC.stereo_calibrate(frames, rows=8, columns=10, manual=True)"
   ]
  },
  {
   "cell_type": "markdown",
   "id": "2b18d327-8602-4306-802e-53173e503cf4",
   "metadata": {},
   "source": [
    "# Save Calibration to YAML"
   ]
  },
  {
   "cell_type": "code",
   "execution_count": null,
   "id": "8a08b898-cf86-4b1d-8855-e72751606f01",
   "metadata": {},
   "outputs": [],
   "source": [
    "sC.save_to_yaml(f\"{run_name}.yaml\")"
   ]
  },
  {
   "cell_type": "code",
   "execution_count": null,
   "id": "c2c8b8c9-e5b1-403d-b1c6-9d944ae5422f",
   "metadata": {},
   "outputs": [],
   "source": [
    "sC.save_to_yaml(f\"{run_name}_exp.yaml\")"
   ]
  },
  {
   "cell_type": "code",
   "execution_count": 7,
   "id": "0b9db116-56d5-4716-8b7d-8d9a239c8753",
   "metadata": {},
   "outputs": [],
   "source": [
    "sC.load_from_yaml(f\"{run_name}_exp.yaml\")"
   ]
  },
  {
   "cell_type": "code",
   "execution_count": null,
   "id": "7a530cc3-0780-44b5-9495-a4805d31dd63",
   "metadata": {},
   "outputs": [],
   "source": [
    "sC.conf[\"anchor_point\"], sC.name"
   ]
  },
  {
   "cell_type": "code",
   "execution_count": null,
   "id": "6373aad5-415e-407b-b684-ec44d2fae841",
   "metadata": {},
   "outputs": [],
   "source": [
    "import numpy as np\n",
    "\n",
    "# Example of formatting your line data into the correct shape\n",
    "lines = [\n",
    "    [505, 386, 1170, 379],\n",
    "    [1165, 333, 511, 336],\n",
    "    [520, 291, 1148, 284],\n",
    "    [1149, 243, 530, 249],\n",
    "    [535, 206, 1148, 199],\n",
    "    [1136, 161, 533, 164]\n",
    "]\n",
    "\n",
    "# Flatten the list of lines into a list of points\n",
    "flat_list = [item for sublist in lines for item in sublist]\n",
    "\n",
    "# Convert to numpy array and reshape\n",
    "points = np.array(flat_list, dtype=np.float32).reshape(-1, 1, 2)\n"
   ]
  }
 ],
 "metadata": {
  "kernelspec": {
   "display_name": "BallMill3D",
   "language": "python",
   "name": "venv"
  },
  "language_info": {
   "codemirror_mode": {
    "name": "ipython",
    "version": 3
   },
   "file_extension": ".py",
   "mimetype": "text/x-python",
   "name": "python",
   "nbconvert_exporter": "python",
   "pygments_lexer": "ipython3",
   "version": "3.10.12"
  }
 },
 "nbformat": 4,
 "nbformat_minor": 5
}
