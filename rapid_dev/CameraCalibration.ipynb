{
 "cells": [
  {
   "cell_type": "code",
   "execution_count": 1,
   "id": "3507e7e7-a1d1-4b36-b52d-112afdf5076d",
   "metadata": {},
   "outputs": [],
   "source": [
    "import sys\n",
    "import os\n",
    "import cv2\n",
    "from scipy import linalg\n",
    "import matplotlib.pyplot as plt\n",
    "from mpl_toolkits.mplot3d import Axes3D\n",
    "import plotly.graph_objects as go\n",
    "sys.path.append(\"..\")\n",
    "\n",
    "from utils.camera_utils import stereoCamera\n",
    "from utils.video_utils import videoLoader"
   ]
  },
  {
   "cell_type": "code",
   "execution_count": 2,
   "id": "fef516fc-a224-43f4-802c-199b88ec54fd",
   "metadata": {},
   "outputs": [],
   "source": [
    "run_name = \"RUN5\"\n",
    "\n",
    "spiegel_calib = [\"spiegel1.mp4\", \"spiegel3.mp4\", \"spiegel4.mp4\", \"spiegel5.mp4\", \"spiegel6.mp4\", \"spiegel7.mp4\", \"spiegel8.mp4\",\n",
    "                \"spiegel9.mp4\", \"spiegel10.mp4\"]\n",
    "front_calib = [\"front1.mp4\", \"front2.mp4\", \"front3.mp4\", \"front4.mp4\", \"front5.mp4\", \"front6.mp4\", \"front7.mp4\", \"front8.mp4\", \n",
    "              \"front9.mp4\", \"front10.mp4\"]\n",
    "\n",
    "stereo_calib = [\"stereo1.mp4\", \"stereo2.mp4\", \"stereo3.mp4\", \"stereo4.mp4\", \"stereo5.mp4\"]\n",
    "\n",
    "stereo_vali = [\"stereo6.mp4\", \"stereo8.mp4\", \"stereo9.mp4\"]\n",
    "\n",
    "fallback_manual = True\n",
    "rows = 4\n",
    "columns = 5"
   ]
  },
  {
   "cell_type": "code",
   "execution_count": 3,
   "id": "3454b97a-fcc6-4eea-ae13-e759cffae4ce",
   "metadata": {},
   "outputs": [],
   "source": [
    "calibration_dir = f\"../videos/{run_name}/calibration\"\n",
    "detection_dir = f\"../videos/{run_name}/detection\"\n",
    "detection_files = os.listdir(detection_dir)\n",
    "sC = stereoCamera(name=run_name, camera_size={0: (360, 180), 1: (360, 180)})\n",
    "vL = videoLoader()\n"
   ]
  },
  {
   "cell_type": "markdown",
   "id": "fcb9b2b4-1f99-4269-b7ae-e4b6776de49e",
   "metadata": {},
   "source": [
    "# Camera Positions"
   ]
  },
  {
   "cell_type": "code",
   "execution_count": 4,
   "id": "5a651571-d1f6-4077-ab8f-14a4a05a9bd7",
   "metadata": {},
   "outputs": [
    {
     "name": "stderr",
     "output_type": "stream",
     "text": [
      "Warning: Ignoring XDG_SESSION_TYPE=wayland on Gnome. Use QT_QPA_PLATFORM=wayland to run on Wayland anyway.\n"
     ]
    }
   ],
   "source": [
    "vL.load_video(os.path.join(detection_dir, detection_files[-1]))\n",
    "frame = vL[10]\n",
    "# 0 = mirror-cam 1 = frontal-cam\n",
    "scaling_factor = 1 # image gets resized by this factor\n",
    "\n",
    "sC.set_anchor_point(frame, 0, scaling_factor)\n",
    "sC.set_anchor_point(frame, 1, scaling_factor)\n",
    "\n",
    "# Displaying the camera regions for evaluation\n",
    "for frame in vL[:100]:\n",
    "    frame = sC.draw_camera_region(frame)\n",
    "    cv2.imshow(\"Frame\", frame)\n",
    "    frame0, frame1 = sC(frame)\n",
    "    cv2.waitKey(10)\n",
    "cv2.destroyAllWindows()\n"
   ]
  },
  {
   "cell_type": "code",
   "execution_count": 5,
   "id": "4d8ca190-3ccd-4834-a105-c04741536297",
   "metadata": {},
   "outputs": [],
   "source": [
    "sC.save_to_yaml(f\"{run_name}cam_positions.yaml\")"
   ]
  },
  {
   "cell_type": "markdown",
   "id": "f5f377a6-4212-4194-9c9c-183d6e116721",
   "metadata": {},
   "source": [
    "# Mirror Camera Calibration"
   ]
  },
  {
   "cell_type": "code",
   "execution_count": 6,
   "id": "896c3a20-44b2-4cd9-90be-f6ff81f3a8ea",
   "metadata": {},
   "outputs": [
    {
     "name": "stdout",
     "output_type": "stream",
     "text": [
      "Detection Success False\n",
      "n_corners 12\n",
      "Corners [[[     38.976      206.17]]\n",
      "\n",
      " [[     47.587      143.03]]\n",
      "\n",
      " [[     57.116      73.151]]\n",
      "\n",
      " [[     96.098      212.89]]\n",
      "\n",
      " [[     106.83      149.91]]\n",
      "\n",
      " [[      118.5      81.474]]\n",
      "\n",
      " [[     155.31      219.86]]\n",
      "\n",
      " [[     165.95      156.77]]\n",
      "\n",
      " [[      177.3      89.448]]\n",
      "\n",
      " [[     213.82      226.74]]\n",
      "\n",
      " [[     225.97      163.73]]\n",
      "\n",
      " [[      238.7      97.773]]] 12\n",
      "Detection Success True\n",
      "Cornerset [[[[     38.976      206.17]]\n",
      "\n",
      "  [[     47.587      143.03]]\n",
      "\n",
      "  [[     57.116      73.151]]\n",
      "\n",
      "  [[     96.098      212.89]]\n",
      "\n",
      "  [[     106.83      149.91]]\n",
      "\n",
      "  [[      118.5      81.474]]\n",
      "\n",
      "  [[     155.31      219.86]]\n",
      "\n",
      "  [[     165.95      156.77]]\n",
      "\n",
      "  [[      177.3      89.448]]\n",
      "\n",
      "  [[     213.82      226.74]]\n",
      "\n",
      "  [[     225.97      163.73]]\n",
      "\n",
      "  [[      238.7      97.773]]]] (1, 12, 1, 2)\n",
      "Imageset [[[214 206 184 ... 173 173 173]\n",
      "  [211 201 177 ... 176 176 175]\n",
      "  [209 196 171 ... 179 178 178]\n",
      "  ...\n",
      "  [229 231 231 ... 212 211 211]\n",
      "  [223 224 226 ... 212 212 212]\n",
      "  [216 218 220 ... 212 212 212]]] (1, 293, 263)\n",
      "n_corners 12\n",
      "Corners [[[     248.24      92.429]]\n",
      "\n",
      " [[     240.47      159.19]]\n",
      "\n",
      " [[      233.5         224]]\n",
      "\n",
      " [[     182.03      86.414]]\n",
      "\n",
      " [[     175.22      155.45]]\n",
      "\n",
      " [[        171       218.5]]\n",
      "\n",
      " [[     116.73      83.522]]\n",
      "\n",
      " [[        113       148.5]]\n",
      "\n",
      " [[     108.73       212.5]]\n",
      "\n",
      " [[     52.783      76.625]]\n",
      "\n",
      " [[       48.5       142.5]]\n",
      "\n",
      " [[     44.269      208.06]]] 12\n",
      "Detection Success True\n",
      "Cornerset [[[[     248.24      92.429]]\n",
      "\n",
      "  [[     240.47      159.19]]\n",
      "\n",
      "  [[      233.5         224]]\n",
      "\n",
      "  [[     182.03      86.414]]\n",
      "\n",
      "  [[     175.22      155.45]]\n",
      "\n",
      "  [[        171       218.5]]\n",
      "\n",
      "  [[     116.73      83.522]]\n",
      "\n",
      "  [[        113       148.5]]\n",
      "\n",
      "  [[     108.73       212.5]]\n",
      "\n",
      "  [[     52.783      76.625]]\n",
      "\n",
      "  [[       48.5       142.5]]\n",
      "\n",
      "  [[     44.269      208.06]]]] (1, 12, 1, 2)\n",
      "Imageset [[[251 251 251 ... 199 198 197]\n",
      "  [251 252 253 ... 204 203 202]\n",
      "  [239 242 243 ... 208 207 206]\n",
      "  ...\n",
      "  [211 211 211 ... 212 211 210]\n",
      "  [209 209 210 ... 212 211 210]\n",
      "  [207 207 207 ... 211 210 210]]] (1, 288, 288)\n",
      "Detection Success False\n"
     ]
    },
    {
     "ename": "KeyboardInterrupt",
     "evalue": "",
     "output_type": "error",
     "traceback": [
      "\u001b[0;31m---------------------------------------------------------------------------\u001b[0m",
      "\u001b[0;31mKeyboardInterrupt\u001b[0m                         Traceback (most recent call last)",
      "Cell \u001b[0;32mIn[6], line 8\u001b[0m\n\u001b[1;32m      5\u001b[0m     \u001b[38;5;28;01mif\u001b[39;00m \u001b[38;5;28mlen\u001b[39m(video_section) \u001b[38;5;241m>\u001b[39m \u001b[38;5;241m0\u001b[39m:\n\u001b[1;32m      6\u001b[0m         frames\u001b[38;5;241m.\u001b[39mappend(video_section)\n\u001b[0;32m----> 8\u001b[0m \u001b[43msC\u001b[49m\u001b[38;5;241;43m.\u001b[39;49m\u001b[43mcalibrate\u001b[49m\u001b[43m(\u001b[49m\u001b[43mframes\u001b[49m\u001b[43m,\u001b[49m\u001b[38;5;241;43m0\u001b[39;49m\u001b[43m,\u001b[49m\u001b[43m \u001b[49m\u001b[43mrows\u001b[49m\u001b[38;5;241;43m=\u001b[39;49m\u001b[43mrows\u001b[49m\u001b[43m,\u001b[49m\u001b[43m \u001b[49m\u001b[43mcolumns\u001b[49m\u001b[38;5;241;43m=\u001b[39;49m\u001b[43mcolumns\u001b[49m\u001b[43m,\u001b[49m\u001b[43m \u001b[49m\u001b[43mfallback_manual\u001b[49m\u001b[38;5;241;43m=\u001b[39;49m\u001b[43mfallback_manual\u001b[49m\u001b[43m,\u001b[49m\u001b[43m \u001b[49m\u001b[43mimage_scaling\u001b[49m\u001b[38;5;241;43m=\u001b[39;49m\u001b[38;5;241;43m2\u001b[39;49m\u001b[43m)\u001b[49m\n",
      "File \u001b[0;32m~/Projekte/BallMill3D/rapid_dev/../utils/camera_utils.py:565\u001b[0m, in \u001b[0;36mstereoCamera.calibrate\u001b[0;34m(self, image_sets, cam, rows, columns, edge_length, image_scaling, fallback_manual, optimize_manual_predictions)\u001b[0m\n\u001b[1;32m    563\u001b[0m \u001b[38;5;28;01mfor\u001b[39;00m image_set \u001b[38;5;129;01min\u001b[39;00m image_sets:\n\u001b[1;32m    564\u001b[0m     image_set \u001b[38;5;241m=\u001b[39m np\u001b[38;5;241m.\u001b[39marray([\u001b[38;5;28mself\u001b[39m(img)[cam] \u001b[38;5;28;01mfor\u001b[39;00m img \u001b[38;5;129;01min\u001b[39;00m image_set])\n\u001b[0;32m--> 565\u001b[0m     ret, corners \u001b[38;5;241m=\u001b[39m \u001b[43mcorner_detection\u001b[49m\u001b[43m(\u001b[49m\u001b[43mimage_set\u001b[49m\u001b[38;5;241;43m=\u001b[39;49m\u001b[43mimage_set\u001b[49m\u001b[43m,\u001b[49m\n\u001b[1;32m    566\u001b[0m \u001b[43m                               \u001b[49m\u001b[43mimage_scaling\u001b[49m\u001b[38;5;241;43m=\u001b[39;49m\u001b[43mimage_scaling\u001b[49m\u001b[43m,\u001b[49m\n\u001b[1;32m    567\u001b[0m \u001b[43m                               \u001b[49m\u001b[43mcam\u001b[49m\u001b[38;5;241;43m=\u001b[39;49m\u001b[43mcam\u001b[49m\u001b[43m,\u001b[49m\n\u001b[1;32m    568\u001b[0m \u001b[43m                               \u001b[49m\u001b[43mrows_inner\u001b[49m\u001b[38;5;241;43m=\u001b[39;49m\u001b[43mrows_inner\u001b[49m\u001b[43m,\u001b[49m\n\u001b[1;32m    569\u001b[0m \u001b[43m                               \u001b[49m\u001b[43mcolumns_inner\u001b[49m\u001b[38;5;241;43m=\u001b[39;49m\u001b[43mcolumns_inner\u001b[49m\u001b[43m,\u001b[49m\n\u001b[1;32m    570\u001b[0m \u001b[43m                               \u001b[49m\u001b[43mfallback_manual\u001b[49m\u001b[38;5;241;43m=\u001b[39;49m\u001b[43mfallback_manual\u001b[49m\u001b[43m)\u001b[49m\n\u001b[1;32m    572\u001b[0m     \u001b[38;5;28;01mif\u001b[39;00m \u001b[38;5;129;01mnot\u001b[39;00m ret: \u001b[38;5;66;03m# Corners can be set to none if detection failed\u001b[39;00m\n\u001b[1;32m    573\u001b[0m         \u001b[38;5;28;01mcontinue\u001b[39;00m\n",
      "File \u001b[0;32m~/Projekte/BallMill3D/rapid_dev/../utils/camera_utils.py:384\u001b[0m, in \u001b[0;36mcorner_detection\u001b[0;34m(image_set, image_scaling, cam, rows_inner, columns_inner, fallback_manual)\u001b[0m\n\u001b[1;32m    382\u001b[0m image_set \u001b[38;5;241m=\u001b[39m np\u001b[38;5;241m.\u001b[39marray(man_image_set)\n\u001b[1;32m    383\u001b[0m image_set_old \u001b[38;5;241m=\u001b[39m np\u001b[38;5;241m.\u001b[39marray(man_image_set_old)\n\u001b[0;32m--> 384\u001b[0m corners_set \u001b[38;5;241m=\u001b[39m \u001b[43mlabel_corners\u001b[49m\u001b[43m(\u001b[49m\u001b[43mimage_set_old\u001b[49m\u001b[43m[\u001b[49m\u001b[38;5;241;43m0\u001b[39;49m\u001b[43m]\u001b[49m\u001b[43m,\u001b[49m\u001b[43m \u001b[49m\u001b[43mimage_scaling\u001b[49m\u001b[38;5;241;43m=\u001b[39;49m\u001b[38;5;241;43m1\u001b[39;49m\u001b[43m)\u001b[49m\n\u001b[1;32m    385\u001b[0m \u001b[38;5;66;03m# Removes the offset to make corners identical to automatically detected corners\u001b[39;00m\n\u001b[1;32m    386\u001b[0m corners_set \u001b[38;5;241m=\u001b[39m np\u001b[38;5;241m.\u001b[39marray([np\u001b[38;5;241m.\u001b[39marray([np\u001b[38;5;241m.\u001b[39marray(coord) \u001b[38;5;241m-\u001b[39m offset \u001b[38;5;28;01mfor\u001b[39;00m coord \u001b[38;5;129;01min\u001b[39;00m corners_set[\u001b[38;5;241m1\u001b[39m]], dtype\u001b[38;5;241m=\u001b[39mnp\u001b[38;5;241m.\u001b[39mfloat32) \u001b[38;5;28;01mif\u001b[39;00m corners_set[\u001b[38;5;241m0\u001b[39m] \u001b[38;5;28;01melse\u001b[39;00m \u001b[38;5;28;01mNone\u001b[39;00m])\n",
      "File \u001b[0;32m~/Projekte/BallMill3D/rapid_dev/../utils/camera_utils.py:126\u001b[0m, in \u001b[0;36mlabel_corners\u001b[0;34m(img, image_scaling)\u001b[0m\n\u001b[1;32m    124\u001b[0m img \u001b[38;5;241m=\u001b[39m cv2\u001b[38;5;241m.\u001b[39mresize(img, [\u001b[38;5;28mint\u001b[39m(img\u001b[38;5;241m.\u001b[39mshape[\u001b[38;5;241m1\u001b[39m]\u001b[38;5;241m*\u001b[39mimage_scaling), \u001b[38;5;28mint\u001b[39m(img\u001b[38;5;241m.\u001b[39mshape[\u001b[38;5;241m0\u001b[39m]\u001b[38;5;241m*\u001b[39mimage_scaling)])\n\u001b[1;32m    125\u001b[0m \u001b[38;5;66;03m# Draws the lines (by user)\u001b[39;00m\n\u001b[0;32m--> 126\u001b[0m ret, lines, img \u001b[38;5;241m=\u001b[39m \u001b[43mdraw_lines\u001b[49m\u001b[43m(\u001b[49m\u001b[43mimg\u001b[49m\u001b[43m)\u001b[49m\n\u001b[1;32m    128\u001b[0m \u001b[38;5;28;01mif\u001b[39;00m \u001b[38;5;129;01mnot\u001b[39;00m ret:   \u001b[38;5;66;03m# if user decides to skip ret will be False\u001b[39;00m\n\u001b[1;32m    129\u001b[0m     \u001b[38;5;28;01mreturn\u001b[39;00m \u001b[38;5;28;01mFalse\u001b[39;00m, \u001b[38;5;28;01mNone\u001b[39;00m\n",
      "File \u001b[0;32m~/Projekte/BallMill3D/rapid_dev/../utils/camera_utils.py:63\u001b[0m, in \u001b[0;36mdraw_lines\u001b[0;34m(img)\u001b[0m\n\u001b[1;32m     61\u001b[0m cv2\u001b[38;5;241m.\u001b[39mimshow(\u001b[38;5;124m\"\u001b[39m\u001b[38;5;124mDrawing Lines\u001b[39m\u001b[38;5;124m\"\u001b[39m, img)\n\u001b[1;32m     62\u001b[0m cv2\u001b[38;5;241m.\u001b[39msetMouseCallback(\u001b[38;5;124m\"\u001b[39m\u001b[38;5;124mDrawing Lines\u001b[39m\u001b[38;5;124m\"\u001b[39m, mouse_callback)\n\u001b[0;32m---> 63\u001b[0m key \u001b[38;5;241m=\u001b[39m \u001b[43mcv2\u001b[49m\u001b[38;5;241;43m.\u001b[39;49m\u001b[43mwaitKey\u001b[49m\u001b[43m(\u001b[49m\u001b[38;5;241;43m1\u001b[39;49m\u001b[43m)\u001b[49m\n\u001b[1;32m     64\u001b[0m \u001b[38;5;28;01mif\u001b[39;00m key \u001b[38;5;241m&\u001b[39m \u001b[38;5;241m0xFF\u001b[39m \u001b[38;5;241m==\u001b[39m \u001b[38;5;28mord\u001b[39m(\u001b[38;5;124m'\u001b[39m\u001b[38;5;124mr\u001b[39m\u001b[38;5;124m'\u001b[39m):\n\u001b[1;32m     65\u001b[0m     \u001b[38;5;28;01mif\u001b[39;00m \u001b[38;5;28mlen\u001b[39m(lines) \u001b[38;5;241m>\u001b[39m \u001b[38;5;241m0\u001b[39m:\n",
      "\u001b[0;31mKeyboardInterrupt\u001b[0m: "
     ]
    }
   ],
   "source": [
    "frames = []\n",
    "for file in spiegel_calib:\n",
    "    vL.load_video(os.path.join(calibration_dir, file))\n",
    "    video_section = vL[100:110]\n",
    "    if len(video_section) > 0:\n",
    "        frames.append(video_section)\n",
    "    \n",
    "sC.calibrate(frames,0, rows=rows, columns=columns, fallback_manual=fallback_manual, image_scaling=2)"
   ]
  },
  {
   "cell_type": "markdown",
   "id": "ccd4b377-dcbd-4ae8-9868-ee175b9ae151",
   "metadata": {},
   "source": [
    "# Frontal Camera Calibration"
   ]
  },
  {
   "cell_type": "code",
   "execution_count": null,
   "id": "531295d6-d480-4540-aa7d-ffb26af596c6",
   "metadata": {},
   "outputs": [],
   "source": [
    "\n",
    "\n",
    "frames = []\n",
    "for file in front_calib:\n",
    "    vL.load_video(os.path.join(calibration_dir, file))\n",
    "    frames.append(vL[100:110])\n",
    "      \n",
    "sC.calibrate(frames,1, rows=8, columns=10, fallback_manual=True, image_scaling=1.9)\n",
    "\n"
   ]
  },
  {
   "cell_type": "code",
   "execution_count": null,
   "id": "61a53e11-fd3a-4bbe-8069-a14a7ddb73e6",
   "metadata": {},
   "outputs": [],
   "source": [
    "# Just for debugging\n",
    "sC.save_to_yaml(f\"{run_name} no stereo.yaml\")"
   ]
  },
  {
   "cell_type": "markdown",
   "id": "cefdc60f-3419-4779-8a9c-09693e4e003d",
   "metadata": {},
   "source": [
    "# Stereo Calibration"
   ]
  },
  {
   "cell_type": "code",
   "execution_count": null,
   "id": "e2ed0cfc-19b3-40be-9734-39b1a8025801",
   "metadata": {},
   "outputs": [],
   "source": [
    "# Just for debugging\n",
    "\n",
    "sC.load_from_yaml(f\"{run_name} no stereo.yaml\")"
   ]
  },
  {
   "cell_type": "code",
   "execution_count": null,
   "id": "4c21a261-aca0-43a2-85c5-b766f0fd0bd3",
   "metadata": {},
   "outputs": [],
   "source": [
    "frames = []\n",
    "\n",
    "for file in stereo_calib[0:]:\n",
    "    print(os.path.join(calibration_dir, file))\n",
    "    vL.load_video(os.path.join(calibration_dir, file))\n",
    "    frames.append(vL[100:110])\n",
    "opip1ip2 = None\n",
    "\n",
    "# for testing different stereocalibration_flags without labeling the images new\n",
    "#sC.load_from_yaml(f\"{run_name} no stereo.yaml\")\n",
    "#with open(\"temp.pk\", \"rb\") as f:\n",
    "#    opip1ip2 = pk.load(f)\n",
    "\n",
    "objectpoints, imgpoints_1, imgpoints_2, images = sC.stereo_calibrate(\n",
    "    frames[:], \n",
    "    rows=8, \n",
    "    columns=10, \n",
    "    undistort=False, \n",
    "    opip1ip2=opip1ip2, \n",
    "    stereocalibration_flags=cv2.CALIB_USE_INTRINSIC_GUESS,\n",
    "    image_scaling=3, \n",
    "    fallback_manual=True)\n",
    "# cv2.CALIB_USE_INTRINSIC_GUESS, cv2.CALIB_FIX_INTRINSIC\n",
    "# cv2.CALIB_FIX_K1 | cv2.CALIB_FIX_K2 | cv2.CALIB_FIX_K3 | cv2.CALIB_FIX_K4 | cv2.CALIB_FIX_K5 | cv2.CALIB_FIX_K6"
   ]
  },
  {
   "cell_type": "markdown",
   "id": "2b18d327-8602-4306-802e-53173e503cf4",
   "metadata": {},
   "source": [
    "# Save Calibration to YAML"
   ]
  },
  {
   "cell_type": "code",
   "execution_count": null,
   "id": "6bb328ac-f53d-4cd8-ba40-5e95640a1501",
   "metadata": {},
   "outputs": [],
   "source": [
    "sC.save_to_yaml(f\"{run_name}.yaml\")"
   ]
  },
  {
   "cell_type": "markdown",
   "id": "a4435a5c-6dd7-4bf5-98af-408a61e291f4",
   "metadata": {},
   "source": [
    "sC.save_to_yaml(f\"{run_name}_exp.yaml\")"
   ]
  },
  {
   "cell_type": "code",
   "execution_count": null,
   "id": "0b9db116-56d5-4716-8b7d-8d9a239c8753",
   "metadata": {},
   "outputs": [],
   "source": [
    "sC.load_from_yaml(f\"{run_name}.yaml\")"
   ]
  }
 ],
 "metadata": {
  "kernelspec": {
   "display_name": "BallMill3D",
   "language": "python",
   "name": "ballmill3d"
  },
  "language_info": {
   "codemirror_mode": {
    "name": "ipython",
    "version": 3
   },
   "file_extension": ".py",
   "mimetype": "text/x-python",
   "name": "python",
   "nbconvert_exporter": "python",
   "pygments_lexer": "ipython3",
   "version": "3.12.3"
  }
 },
 "nbformat": 4,
 "nbformat_minor": 5
}
