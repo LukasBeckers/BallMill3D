{
 "cells": [
  {
   "cell_type": "code",
   "execution_count": 1,
   "id": "3507e7e7-a1d1-4b36-b52d-112afdf5076d",
   "metadata": {},
   "outputs": [],
   "source": [
    "import sys\n",
    "import os\n",
    "from scipy import linalg\n",
    "import matplotlib.pyplot as plt\n",
    "from mpl_toolkits.mplot3d import Axes3D\n",
    "import plotly.graph_objects as go\n",
    "sys.path.append(\"..\")\n",
    "\n",
    "from utils.camera_utils import *"
   ]
  },
  {
   "cell_type": "code",
   "execution_count": 2,
   "id": "fef516fc-a224-43f4-802c-199b88ec54fd",
   "metadata": {},
   "outputs": [],
   "source": [
    "run_name = \"RUN4\"\n",
    "\n",
    "spiegel_calib = [\"spiegel1.mp4\", \"spiegel3.mp4\", \"spiegel4.mp4\", \"spiegel5.mp4\", \"spiegel6.mp4\", \"spiegel7.mp4\", \"spiegel8.mp4\",\n",
    "                \"spiegel9.mp4\", \"spiegel10.mp4\"]\n",
    "front_calib = [\"front1.mp4\", \"front2.mp4\", \"front3.mp4\", \"front4.mp4\", \"front5.mp4\", \"front6.mp4\", \"front7.mp4\", \"front8.mp4\", \n",
    "              \"front9.mp4\", \"front10.mp4\", \"front11.mp4\"]\n",
    "\n",
    "stereo_calib = [\"stereo1.mp4\", \"stereo2.mp4\", \"stereo3.mp4\", \"stereo4.mp4\", \"stereo5.mp4\", \"stereo6.mp4\", \"stereo7.mp4\", \n",
    "                \"stereo8.mp4\", \"stereo9.mp4\", \"stereo10.mp4\", \"stereo11.mp4\", \"stereo12.mp4\"]\n",
    "\n",
    "stereo_vali = [\"stereo3.mp4\", \"stereo4.mp4\", \"stereo5.mp4\"]"
   ]
  },
  {
   "cell_type": "code",
   "execution_count": 3,
   "id": "3454b97a-fcc6-4eea-ae13-e759cffae4ce",
   "metadata": {},
   "outputs": [],
   "source": [
    "calibration_dir = f\"../videos/{run_name}/calibration\"\n",
    "detection_dir = f\"../videos/{run_name}/detection\"\n",
    "detection_files = os.listdir(detection_dir)\n",
    "sC = stereoCamera(name=run_name, camera_size={0: (360, 180), 1: (360, 180)})\n",
    "vL = videoLoader()\n"
   ]
  },
  {
   "cell_type": "markdown",
   "id": "fcb9b2b4-1f99-4269-b7ae-e4b6776de49e",
   "metadata": {},
   "source": [
    "# Camera Positions"
   ]
  },
  {
   "cell_type": "code",
   "execution_count": 4,
   "id": "5a651571-d1f6-4077-ab8f-14a4a05a9bd7",
   "metadata": {},
   "outputs": [
    {
     "name": "stderr",
     "output_type": "stream",
     "text": [
      "Warning: Ignoring XDG_SESSION_TYPE=wayland on Gnome. Use QT_QPA_PLATFORM=wayland to run on Wayland anyway.\n"
     ]
    }
   ],
   "source": [
    "vL.load_video(os.path.join(detection_dir, detection_files[-1]))\n",
    "frame = vL[10]\n",
    "# 0 = mirror-cam 1 = frontal-cam\n",
    "scaling_factor = 1 # image gets resized by this factor\n",
    "\n",
    "sC.set_anchor_point(frame, 0, scaling_factor)\n",
    "sC.set_anchor_point(frame, 1, scaling_factor)\n",
    "\n",
    "# Displaying the camera regions for evaluation\n",
    "for frame in vL[:100]:\n",
    "    frame = sC.draw_camera_region(frame)\n",
    "    cv2.imshow(\"Frame\", frame)\n",
    "    frame0, frame1 = sC(frame)\n",
    "    cv2.waitKey(10)\n",
    "cv2.destroyAllWindows()\n"
   ]
  },
  {
   "cell_type": "markdown",
   "id": "f5f377a6-4212-4194-9c9c-183d6e116721",
   "metadata": {},
   "source": [
    "# Mirror Camera Calibration"
   ]
  },
  {
   "cell_type": "code",
   "execution_count": null,
   "id": "896c3a20-44b2-4cd9-90be-f6ff81f3a8ea",
   "metadata": {},
   "outputs": [],
   "source": [
    "frames = []\n",
    "for file in spiegel_calib:\n",
    "    vL.load_video(os.path.join(calibration_dir, file))\n",
    "    video_section = vL[100:110]\n",
    "    if len(video_section) > 0:\n",
    "        frames.append(video_section)\n",
    "    \n",
    "sC.calibrate(frames,0, rows=8, columns=10, fallback_manual=True, image_scaling=2)"
   ]
  },
  {
   "cell_type": "markdown",
   "id": "ccd4b377-dcbd-4ae8-9868-ee175b9ae151",
   "metadata": {},
   "source": [
    "# Frontal Camera Calibration"
   ]
  },
  {
   "cell_type": "code",
   "execution_count": null,
   "id": "531295d6-d480-4540-aa7d-ffb26af596c6",
   "metadata": {},
   "outputs": [],
   "source": [
    "\n",
    "\n",
    "frames = []\n",
    "for file in front_calib:\n",
    "    vL.load_video(os.path.join(calibration_dir, file))\n",
    "    frames.append(vL[100:110])\n",
    "      \n",
    "sC.calibrate(frames,1, rows=8, columns=10, fallback_manual=True, image_scaling=1.9)\n",
    "\n"
   ]
  },
  {
   "cell_type": "code",
   "execution_count": null,
   "id": "61a53e11-fd3a-4bbe-8069-a14a7ddb73e6",
   "metadata": {},
   "outputs": [],
   "source": [
    "# Just for debugging\n",
    "sC.save_to_yaml(f\"{run_name} no stereo.yaml\")"
   ]
  },
  {
   "cell_type": "markdown",
   "id": "cefdc60f-3419-4779-8a9c-09693e4e003d",
   "metadata": {},
   "source": [
    "# Stereo Calibration"
   ]
  },
  {
   "cell_type": "code",
   "execution_count": 5,
   "id": "e2ed0cfc-19b3-40be-9734-39b1a8025801",
   "metadata": {},
   "outputs": [],
   "source": [
    "# Just for debugging\n",
    "\n",
    "sC.load_from_yaml(f\"{run_name} no stereo.yaml\")"
   ]
  },
  {
   "cell_type": "code",
   "execution_count": 6,
   "id": "4c21a261-aca0-43a2-85c5-b766f0fd0bd3",
   "metadata": {},
   "outputs": [
    {
     "name": "stdout",
     "output_type": "stream",
     "text": [
      "../videos/RUN4/calibration/stereo1.mp4\n",
      "../videos/RUN4/calibration/stereo2.mp4\n",
      "../videos/RUN4/calibration/stereo3.mp4\n",
      "../videos/RUN4/calibration/stereo4.mp4\n",
      "../videos/RUN4/calibration/stereo5.mp4\n",
      "../videos/RUN4/calibration/stereo6.mp4\n",
      "../videos/RUN4/calibration/stereo7.mp4\n",
      "../videos/RUN4/calibration/stereo8.mp4\n",
      "../videos/RUN4/calibration/stereo9.mp4\n",
      "../videos/RUN4/calibration/stereo10.mp4\n",
      "../videos/RUN4/calibration/stereo11.mp4\n",
      "../videos/RUN4/calibration/stereo12.mp4\n",
      "Stereo-calibration error: 0.16002955712792535\n",
      "Translation Matrix: [[-0.08341221]\n",
      " [-0.46210554]\n",
      " [ 0.45100709]]\n",
      "Rotation Matrix: [[-0.98153114 -0.17024009 -0.0872636 ]\n",
      " [-0.13476321  0.29155586  0.94701323]\n",
      " [-0.1357774   0.9412829  -0.30911326]]\n",
      "New Camera Matrix Mirror: [[824.9606694    0.         278.97450919]\n",
      " [  0.         893.82423828 167.50875544]\n",
      " [  0.           0.           1.        ]]\n",
      "New Distortion Front [[-2.12826887e+00  3.03581863e+01 -3.15022137e-02 -9.98816977e-03\n",
      "  -1.93186369e+02]]\n"
     ]
    }
   ],
   "source": [
    "frames = []\n",
    "\n",
    "for file in stereo_calib[0:]:\n",
    "    print(os.path.join(calibration_dir, file))\n",
    "    vL.load_video(os.path.join(calibration_dir, file))\n",
    "    frames.append(vL[100:110])\n",
    "opip1ip2 = None\n",
    "\n",
    "# for testing different stereocalibration_flags without labeling the images new\n",
    "#sC.load_from_yaml(f\"{run_name} no stereo.yaml\")\n",
    "#with open(\"temp.pk\", \"rb\") as f:\n",
    "#    opip1ip2 = pk.load(f)\n",
    "\n",
    "objectpoints, imgpoints_1, imgpoints_2, images = sC.stereo_calibrate(\n",
    "    frames[:], \n",
    "    rows=8, \n",
    "    columns=10, \n",
    "    undistort=False, \n",
    "    opip1ip2=opip1ip2, \n",
    "    stereocalibration_flags=cv2.CALIB_USE_INTRINSIC_GUESS,\n",
    "    image_scaling=3, \n",
    "    fallback_manual=True)\n",
    "# cv2.CALIB_USE_INTRINSIC_GUESS, cv2.CALIB_FIX_INTRINSIC\n",
    "# cv2.CALIB_FIX_K1 | cv2.CALIB_FIX_K2 | cv2.CALIB_FIX_K3 | cv2.CALIB_FIX_K4 | cv2.CALIB_FIX_K5 | cv2.CALIB_FIX_K6"
   ]
  },
  {
   "cell_type": "markdown",
   "id": "2b18d327-8602-4306-802e-53173e503cf4",
   "metadata": {},
   "source": [
    "# Save Calibration to YAML"
   ]
  },
  {
   "cell_type": "code",
   "execution_count": 7,
   "id": "6bb328ac-f53d-4cd8-ba40-5e95640a1501",
   "metadata": {},
   "outputs": [],
   "source": [
    "sC.save_to_yaml(f\"{run_name}.yaml\")"
   ]
  },
  {
   "cell_type": "markdown",
   "id": "a4435a5c-6dd7-4bf5-98af-408a61e291f4",
   "metadata": {},
   "source": [
    "sC.save_to_yaml(f\"{run_name}_exp.yaml\")"
   ]
  },
  {
   "cell_type": "code",
   "execution_count": null,
   "id": "0b9db116-56d5-4716-8b7d-8d9a239c8753",
   "metadata": {},
   "outputs": [],
   "source": [
    "sC.load_from_yaml(f\"{run_name}.yaml\")"
   ]
  }
 ],
 "metadata": {
  "kernelspec": {
   "display_name": "BallMill3D",
   "language": "python",
   "name": "ballmill3d"
  },
  "language_info": {
   "codemirror_mode": {
    "name": "ipython",
    "version": 3
   },
   "file_extension": ".py",
   "mimetype": "text/x-python",
   "name": "python",
   "nbconvert_exporter": "python",
   "pygments_lexer": "ipython3",
   "version": "3.12.3"
  }
 },
 "nbformat": 4,
 "nbformat_minor": 5
}
